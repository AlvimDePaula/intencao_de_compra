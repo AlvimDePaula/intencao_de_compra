{
 "cells": [
  {
   "cell_type": "markdown",
   "metadata": {},
   "source": [
    "### Projeto - Intenção de Compra\n",
    "\n",
    "É um projeto explorado no capitulo 11 do curso de Machine Learning da DSA. Aqui irei explorar os dados e fazer as minhas analise. \n",
    "\n",
    "link para o datset: https://archive.ics.uci.edu/ml/datasets/Online+Shoppers+Purchasing+Intention+Dataset\n",
    "\n",
    "O conjunto de dados consiste em vetores de recursos pertencentes a 12.330 sessões online. O conjunto de dados foi formado de modo que cada sessão pertença a um usuário diferente em um período de 1 ano para evitar qualquer tendência para uma campanha específica, dia especial, usuário, perfil ou período."
   ]
  },
  {
   "cell_type": "code",
   "execution_count": 118,
   "metadata": {},
   "outputs": [],
   "source": [
    "import pandas as pd\n",
    "import numpy as np\n",
    "import matplotlib.pyplot as plt\n",
    "import seaborn as sns\n",
    "\n",
    "from sklearn.svm import SVC\n",
    "from sklearn.ensemble import RandomForestClassifier, AdaBoostClassifier, BaggingClassifier\n",
    "from sklearn.linear_model import LogisticRegression\n",
    "\n",
    "from sklearn.metrics import accuracy_score, precision_score, recall_score, f1_score, roc_auc_score\n",
    "from sklearn.preprocessing import LabelEncoder, OneHotEncoder\n",
    "from sklearn.model_selection import train_test_split\n",
    "from sklearn.preprocessing import StandardScaler\n",
    "from sklearn.model_selection import RandomizedSearchCV\n",
    "from sklearn.feature_selection import SelectKBest, f_classif\n",
    "\n",
    "import imblearn"
   ]
  },
  {
   "cell_type": "code",
   "execution_count": 119,
   "metadata": {},
   "outputs": [],
   "source": [
    "dataframe = pd.read_csv('online_shoppers_intention.csv')"
   ]
  },
  {
   "cell_type": "code",
   "execution_count": 120,
   "metadata": {},
   "outputs": [
    {
     "data": {
      "text/html": [
       "<div>\n",
       "<style scoped>\n",
       "    .dataframe tbody tr th:only-of-type {\n",
       "        vertical-align: middle;\n",
       "    }\n",
       "\n",
       "    .dataframe tbody tr th {\n",
       "        vertical-align: top;\n",
       "    }\n",
       "\n",
       "    .dataframe thead th {\n",
       "        text-align: right;\n",
       "    }\n",
       "</style>\n",
       "<table border=\"1\" class=\"dataframe\">\n",
       "  <thead>\n",
       "    <tr style=\"text-align: right;\">\n",
       "      <th></th>\n",
       "      <th>Administrative</th>\n",
       "      <th>Administrative_Duration</th>\n",
       "      <th>Informational</th>\n",
       "      <th>Informational_Duration</th>\n",
       "      <th>ProductRelated</th>\n",
       "      <th>ProductRelated_Duration</th>\n",
       "      <th>BounceRates</th>\n",
       "      <th>ExitRates</th>\n",
       "      <th>PageValues</th>\n",
       "      <th>SpecialDay</th>\n",
       "      <th>Month</th>\n",
       "      <th>OperatingSystems</th>\n",
       "      <th>Browser</th>\n",
       "      <th>Region</th>\n",
       "      <th>TrafficType</th>\n",
       "      <th>VisitorType</th>\n",
       "      <th>Weekend</th>\n",
       "      <th>Revenue</th>\n",
       "    </tr>\n",
       "  </thead>\n",
       "  <tbody>\n",
       "    <tr>\n",
       "      <th>0</th>\n",
       "      <td>0.0</td>\n",
       "      <td>0.0</td>\n",
       "      <td>0.0</td>\n",
       "      <td>0.0</td>\n",
       "      <td>1.0</td>\n",
       "      <td>0.000000</td>\n",
       "      <td>0.20</td>\n",
       "      <td>0.20</td>\n",
       "      <td>0.0</td>\n",
       "      <td>0.0</td>\n",
       "      <td>Feb</td>\n",
       "      <td>1</td>\n",
       "      <td>1</td>\n",
       "      <td>1</td>\n",
       "      <td>1</td>\n",
       "      <td>Returning_Visitor</td>\n",
       "      <td>False</td>\n",
       "      <td>False</td>\n",
       "    </tr>\n",
       "    <tr>\n",
       "      <th>1</th>\n",
       "      <td>0.0</td>\n",
       "      <td>0.0</td>\n",
       "      <td>0.0</td>\n",
       "      <td>0.0</td>\n",
       "      <td>2.0</td>\n",
       "      <td>64.000000</td>\n",
       "      <td>0.00</td>\n",
       "      <td>0.10</td>\n",
       "      <td>0.0</td>\n",
       "      <td>0.0</td>\n",
       "      <td>Feb</td>\n",
       "      <td>2</td>\n",
       "      <td>2</td>\n",
       "      <td>1</td>\n",
       "      <td>2</td>\n",
       "      <td>Returning_Visitor</td>\n",
       "      <td>False</td>\n",
       "      <td>False</td>\n",
       "    </tr>\n",
       "    <tr>\n",
       "      <th>2</th>\n",
       "      <td>0.0</td>\n",
       "      <td>-1.0</td>\n",
       "      <td>0.0</td>\n",
       "      <td>-1.0</td>\n",
       "      <td>1.0</td>\n",
       "      <td>-1.000000</td>\n",
       "      <td>0.20</td>\n",
       "      <td>0.20</td>\n",
       "      <td>0.0</td>\n",
       "      <td>0.0</td>\n",
       "      <td>Feb</td>\n",
       "      <td>4</td>\n",
       "      <td>1</td>\n",
       "      <td>9</td>\n",
       "      <td>3</td>\n",
       "      <td>Returning_Visitor</td>\n",
       "      <td>False</td>\n",
       "      <td>False</td>\n",
       "    </tr>\n",
       "    <tr>\n",
       "      <th>3</th>\n",
       "      <td>0.0</td>\n",
       "      <td>0.0</td>\n",
       "      <td>0.0</td>\n",
       "      <td>0.0</td>\n",
       "      <td>2.0</td>\n",
       "      <td>2.666667</td>\n",
       "      <td>0.05</td>\n",
       "      <td>0.14</td>\n",
       "      <td>0.0</td>\n",
       "      <td>0.0</td>\n",
       "      <td>Feb</td>\n",
       "      <td>3</td>\n",
       "      <td>2</td>\n",
       "      <td>2</td>\n",
       "      <td>4</td>\n",
       "      <td>Returning_Visitor</td>\n",
       "      <td>False</td>\n",
       "      <td>False</td>\n",
       "    </tr>\n",
       "    <tr>\n",
       "      <th>4</th>\n",
       "      <td>0.0</td>\n",
       "      <td>0.0</td>\n",
       "      <td>0.0</td>\n",
       "      <td>0.0</td>\n",
       "      <td>10.0</td>\n",
       "      <td>627.500000</td>\n",
       "      <td>0.02</td>\n",
       "      <td>0.05</td>\n",
       "      <td>0.0</td>\n",
       "      <td>0.0</td>\n",
       "      <td>Feb</td>\n",
       "      <td>3</td>\n",
       "      <td>3</td>\n",
       "      <td>1</td>\n",
       "      <td>4</td>\n",
       "      <td>Returning_Visitor</td>\n",
       "      <td>True</td>\n",
       "      <td>False</td>\n",
       "    </tr>\n",
       "  </tbody>\n",
       "</table>\n",
       "</div>"
      ],
      "text/plain": [
       "   Administrative  Administrative_Duration  Informational  \\\n",
       "0             0.0                      0.0            0.0   \n",
       "1             0.0                      0.0            0.0   \n",
       "2             0.0                     -1.0            0.0   \n",
       "3             0.0                      0.0            0.0   \n",
       "4             0.0                      0.0            0.0   \n",
       "\n",
       "   Informational_Duration  ProductRelated  ProductRelated_Duration  \\\n",
       "0                     0.0             1.0                 0.000000   \n",
       "1                     0.0             2.0                64.000000   \n",
       "2                    -1.0             1.0                -1.000000   \n",
       "3                     0.0             2.0                 2.666667   \n",
       "4                     0.0            10.0               627.500000   \n",
       "\n",
       "   BounceRates  ExitRates  PageValues  SpecialDay Month  OperatingSystems  \\\n",
       "0         0.20       0.20         0.0         0.0   Feb                 1   \n",
       "1         0.00       0.10         0.0         0.0   Feb                 2   \n",
       "2         0.20       0.20         0.0         0.0   Feb                 4   \n",
       "3         0.05       0.14         0.0         0.0   Feb                 3   \n",
       "4         0.02       0.05         0.0         0.0   Feb                 3   \n",
       "\n",
       "   Browser  Region  TrafficType        VisitorType  Weekend  Revenue  \n",
       "0        1       1            1  Returning_Visitor    False    False  \n",
       "1        2       1            2  Returning_Visitor    False    False  \n",
       "2        1       9            3  Returning_Visitor    False    False  \n",
       "3        2       2            4  Returning_Visitor    False    False  \n",
       "4        3       1            4  Returning_Visitor     True    False  "
      ]
     },
     "execution_count": 120,
     "metadata": {},
     "output_type": "execute_result"
    }
   ],
   "source": [
    "dataframe.head()"
   ]
  },
  {
   "cell_type": "markdown",
   "metadata": {},
   "source": [
    "#### Informações do UCI\n",
    "\n",
    "- Dataset possui 10 váriaveis númericos e 8 categóricos.\n",
    "- Revenue é a váriavel target\n",
    "\n",
    "#### Informações das variáveis\n",
    "\n",
    "- \"Administrative\", \"Administrative Duration\", \"Informational\", \"Informational Duration\", \"Product Related\" e \"Product Related Duration\" representa o número de diferentes tipos de páginas visitadas pelo visitante naquela sessão e tempo total gasto em cada dessa categoria\n",
    "- \"Bounce Rate\", \"Exit Rate\" and \"Page Value\" representa métricas medidas pelo Google Analytics for cada página dentro da e-commerce site\n",
    "- \"Bounce Rate\" porcentagem de visitantes que entrou no site através daquela página e depois saem sem acionar outras solicitações ao servidor de análise.\n",
    "- \"Exit Rate\" váriavel específico para uma página web é calculado para todas as visualizações da página, a porcentagem que foi a última na sessão\n",
    "- \"Page Value\" representa valor médio de uma página da web que o usuário visitou antes de concluir uma transação de comércio eletrônico. \n",
    "- \"Special Day\" horário proximado do horário de visita do site a um dia especial em que as sessões têm maior probilidade de serem finalzadas com transação"
   ]
  },
  {
   "cell_type": "markdown",
   "metadata": {},
   "source": [
    "# Análise "
   ]
  },
  {
   "cell_type": "code",
   "execution_count": 121,
   "metadata": {},
   "outputs": [
    {
     "name": "stdout",
     "output_type": "stream",
     "text": [
      "<class 'pandas.core.frame.DataFrame'>\n",
      "RangeIndex: 12330 entries, 0 to 12329\n",
      "Data columns (total 18 columns):\n",
      " #   Column                   Non-Null Count  Dtype  \n",
      "---  ------                   --------------  -----  \n",
      " 0   Administrative           12316 non-null  float64\n",
      " 1   Administrative_Duration  12316 non-null  float64\n",
      " 2   Informational            12316 non-null  float64\n",
      " 3   Informational_Duration   12316 non-null  float64\n",
      " 4   ProductRelated           12316 non-null  float64\n",
      " 5   ProductRelated_Duration  12316 non-null  float64\n",
      " 6   BounceRates              12316 non-null  float64\n",
      " 7   ExitRates                12316 non-null  float64\n",
      " 8   PageValues               12330 non-null  float64\n",
      " 9   SpecialDay               12330 non-null  float64\n",
      " 10  Month                    12330 non-null  object \n",
      " 11  OperatingSystems         12330 non-null  int64  \n",
      " 12  Browser                  12330 non-null  int64  \n",
      " 13  Region                   12330 non-null  int64  \n",
      " 14  TrafficType              12330 non-null  int64  \n",
      " 15  VisitorType              12330 non-null  object \n",
      " 16  Weekend                  12330 non-null  bool   \n",
      " 17  Revenue                  12330 non-null  bool   \n",
      "dtypes: bool(2), float64(10), int64(4), object(2)\n",
      "memory usage: 1.5+ MB\n"
     ]
    }
   ],
   "source": [
    "dataframe.info()"
   ]
  },
  {
   "cell_type": "code",
   "execution_count": 122,
   "metadata": {},
   "outputs": [
    {
     "data": {
      "image/png": "[encoded data removed]",
      "text/plain": [
       "<Figure size 432x288 with 1 Axes>"
      ]
     },
     "metadata": {
      "needs_background": "light"
     },
     "output_type": "display_data"
    }
   ],
   "source": [
    "# Gráfico Target\n",
    "plt.bar(height=dataframe[\"Revenue\"].value_counts().values[:], x=dataframe[\"Revenue\"].value_counts().index)\n",
    "plt.xticks([0,1])\n",
    "plt.title('Variável Revenue (Target)');"
   ]
  },
  {
   "cell_type": "code",
   "execution_count": 123,
   "metadata": {},
   "outputs": [
    {
     "data": {
      "text/html": [
       "<div>\n",
       "<style scoped>\n",
       "    .dataframe tbody tr th:only-of-type {\n",
       "        vertical-align: middle;\n",
       "    }\n",
       "\n",
       "    .dataframe tbody tr th {\n",
       "        vertical-align: top;\n",
       "    }\n",
       "\n",
       "    .dataframe thead th {\n",
       "        text-align: right;\n",
       "    }\n",
       "</style>\n",
       "<table border=\"1\" class=\"dataframe\">\n",
       "  <thead>\n",
       "    <tr style=\"text-align: right;\">\n",
       "      <th></th>\n",
       "      <th>Administrative</th>\n",
       "      <th>Administrative_Duration</th>\n",
       "      <th>Informational</th>\n",
       "      <th>Informational_Duration</th>\n",
       "      <th>ProductRelated</th>\n",
       "      <th>ProductRelated_Duration</th>\n",
       "      <th>BounceRates</th>\n",
       "      <th>ExitRates</th>\n",
       "      <th>PageValues</th>\n",
       "      <th>SpecialDay</th>\n",
       "      <th>Month</th>\n",
       "      <th>OperatingSystems</th>\n",
       "      <th>Browser</th>\n",
       "      <th>Region</th>\n",
       "      <th>TrafficType</th>\n",
       "      <th>VisitorType</th>\n",
       "      <th>Weekend</th>\n",
       "      <th>Revenue</th>\n",
       "    </tr>\n",
       "  </thead>\n",
       "  <tbody>\n",
       "    <tr>\n",
       "      <th>1065</th>\n",
       "      <td>NaN</td>\n",
       "      <td>NaN</td>\n",
       "      <td>NaN</td>\n",
       "      <td>NaN</td>\n",
       "      <td>NaN</td>\n",
       "      <td>NaN</td>\n",
       "      <td>NaN</td>\n",
       "      <td>NaN</td>\n",
       "      <td>0.0</td>\n",
       "      <td>0.0</td>\n",
       "      <td>Mar</td>\n",
       "      <td>2</td>\n",
       "      <td>2</td>\n",
       "      <td>2</td>\n",
       "      <td>1</td>\n",
       "      <td>Returning_Visitor</td>\n",
       "      <td>False</td>\n",
       "      <td>False</td>\n",
       "    </tr>\n",
       "    <tr>\n",
       "      <th>1132</th>\n",
       "      <td>NaN</td>\n",
       "      <td>NaN</td>\n",
       "      <td>NaN</td>\n",
       "      <td>NaN</td>\n",
       "      <td>NaN</td>\n",
       "      <td>NaN</td>\n",
       "      <td>NaN</td>\n",
       "      <td>NaN</td>\n",
       "      <td>0.0</td>\n",
       "      <td>0.0</td>\n",
       "      <td>Mar</td>\n",
       "      <td>1</td>\n",
       "      <td>1</td>\n",
       "      <td>1</td>\n",
       "      <td>2</td>\n",
       "      <td>Returning_Visitor</td>\n",
       "      <td>False</td>\n",
       "      <td>False</td>\n",
       "    </tr>\n",
       "    <tr>\n",
       "      <th>1133</th>\n",
       "      <td>NaN</td>\n",
       "      <td>NaN</td>\n",
       "      <td>NaN</td>\n",
       "      <td>NaN</td>\n",
       "      <td>NaN</td>\n",
       "      <td>NaN</td>\n",
       "      <td>NaN</td>\n",
       "      <td>NaN</td>\n",
       "      <td>0.0</td>\n",
       "      <td>0.0</td>\n",
       "      <td>Mar</td>\n",
       "      <td>2</td>\n",
       "      <td>4</td>\n",
       "      <td>5</td>\n",
       "      <td>1</td>\n",
       "      <td>Returning_Visitor</td>\n",
       "      <td>False</td>\n",
       "      <td>False</td>\n",
       "    </tr>\n",
       "    <tr>\n",
       "      <th>1134</th>\n",
       "      <td>NaN</td>\n",
       "      <td>NaN</td>\n",
       "      <td>NaN</td>\n",
       "      <td>NaN</td>\n",
       "      <td>NaN</td>\n",
       "      <td>NaN</td>\n",
       "      <td>NaN</td>\n",
       "      <td>NaN</td>\n",
       "      <td>0.0</td>\n",
       "      <td>0.0</td>\n",
       "      <td>Mar</td>\n",
       "      <td>2</td>\n",
       "      <td>2</td>\n",
       "      <td>1</td>\n",
       "      <td>2</td>\n",
       "      <td>Returning_Visitor</td>\n",
       "      <td>False</td>\n",
       "      <td>False</td>\n",
       "    </tr>\n",
       "    <tr>\n",
       "      <th>1135</th>\n",
       "      <td>NaN</td>\n",
       "      <td>NaN</td>\n",
       "      <td>NaN</td>\n",
       "      <td>NaN</td>\n",
       "      <td>NaN</td>\n",
       "      <td>NaN</td>\n",
       "      <td>NaN</td>\n",
       "      <td>NaN</td>\n",
       "      <td>0.0</td>\n",
       "      <td>0.0</td>\n",
       "      <td>Mar</td>\n",
       "      <td>3</td>\n",
       "      <td>2</td>\n",
       "      <td>1</td>\n",
       "      <td>1</td>\n",
       "      <td>Returning_Visitor</td>\n",
       "      <td>False</td>\n",
       "      <td>False</td>\n",
       "    </tr>\n",
       "  </tbody>\n",
       "</table>\n",
       "</div>"
      ],
      "text/plain": [
       "      Administrative  Administrative_Duration  Informational  \\\n",
       "1065             NaN                      NaN            NaN   \n",
       "1132             NaN                      NaN            NaN   \n",
       "1133             NaN                      NaN            NaN   \n",
       "1134             NaN                      NaN            NaN   \n",
       "1135             NaN                      NaN            NaN   \n",
       "\n",
       "      Informational_Duration  ProductRelated  ProductRelated_Duration  \\\n",
       "1065                     NaN             NaN                      NaN   \n",
       "1132                     NaN             NaN                      NaN   \n",
       "1133                     NaN             NaN                      NaN   \n",
       "1134                     NaN             NaN                      NaN   \n",
       "1135                     NaN             NaN                      NaN   \n",
       "\n",
       "      BounceRates  ExitRates  PageValues  SpecialDay Month  OperatingSystems  \\\n",
       "1065          NaN        NaN         0.0         0.0   Mar                 2   \n",
       "1132          NaN        NaN         0.0         0.0   Mar                 1   \n",
       "1133          NaN        NaN         0.0         0.0   Mar                 2   \n",
       "1134          NaN        NaN         0.0         0.0   Mar                 2   \n",
       "1135          NaN        NaN         0.0         0.0   Mar                 3   \n",
       "\n",
       "      Browser  Region  TrafficType        VisitorType  Weekend  Revenue  \n",
       "1065        2       2            1  Returning_Visitor    False    False  \n",
       "1132        1       1            2  Returning_Visitor    False    False  \n",
       "1133        4       5            1  Returning_Visitor    False    False  \n",
       "1134        2       1            2  Returning_Visitor    False    False  \n",
       "1135        2       1            1  Returning_Visitor    False    False  "
      ]
     },
     "execution_count": 123,
     "metadata": {},
     "output_type": "execute_result"
    }
   ],
   "source": [
    "# Observações com valoers NaN\n",
    "bool_series = pd.isnull(dataframe[\"Administrative\"])\n",
    "dataframe[bool_series].head()"
   ]
  },
  {
   "cell_type": "code",
   "execution_count": 124,
   "metadata": {},
   "outputs": [
    {
     "data": {
      "text/plain": [
       "0"
      ]
     },
     "execution_count": 124,
     "metadata": {},
     "output_type": "execute_result"
    }
   ],
   "source": [
    "# Drop de observações NaN\n",
    "dataframe.dropna(inplace=True)\n",
    "dataframe.reset_index(inplace=True)\n",
    "dataframe.isna().sum().sum()"
   ]
  },
  {
   "cell_type": "code",
   "execution_count": 125,
   "metadata": {},
   "outputs": [
    {
     "data": {
      "image/png": "[encoded data removed]",
      "text/plain": [
       "<Figure size 720x432 with 1 Axes>"
      ]
     },
     "metadata": {
      "needs_background": "light"
     },
     "output_type": "display_data"
    }
   ],
   "source": [
    "# Variável 'Administrative'\n",
    "plt.figure(figsize=(10,6))\n",
    "plt.bar(height=dataframe[\"Administrative\"].value_counts().values, x=dataframe[\"Administrative\"].value_counts().index)\n",
    "plt.title('Administrative');"
   ]
  },
  {
   "cell_type": "code",
   "execution_count": 126,
   "metadata": {},
   "outputs": [
    {
     "data": {
      "image/png": "[encoded data removed]",
      "text/plain": [
       "<Figure size 720x432 with 1 Axes>"
      ]
     },
     "metadata": {
      "needs_background": "light"
     },
     "output_type": "display_data"
    }
   ],
   "source": [
    "# Gráfico valores únicos\n",
    "plt.figure(figsize=(10,6))\n",
    "plt.bar(height=dataframe.nunique().sort_values(ascending=False), x=dataframe.nunique().sort_values(ascending=False).index)\n",
    "plt.xticks(rotation=90)\n",
    "plt.title(\"Quantidade de Valores Únicos\");"
   ]
  },
  {
   "cell_type": "code",
   "execution_count": 127,
   "metadata": {},
   "outputs": [],
   "source": [
    "# Variáveis categóricas e numérica\n",
    "col_cat = []\n",
    "col_num = []\n",
    "\n",
    "for i in dataframe.columns:\n",
    "    if dataframe[i].nunique() < 50:\n",
    "        col_cat.append(i)\n",
    "    else:\n",
    "        col_num.append(i)"
   ]
  },
  {
   "cell_type": "code",
   "execution_count": 128,
   "metadata": {},
   "outputs": [
    {
     "data": {
      "text/plain": [
       "<AxesSubplot:>"
      ]
     },
     "execution_count": 128,
     "metadata": {},
     "output_type": "execute_result"
    },
    {
     "data": {
      "image/png": "[encoded data removed]",
      "text/plain": [
       "<Figure size 720x432 with 2 Axes>"
      ]
     },
     "metadata": {
      "needs_background": "light"
     },
     "output_type": "display_data"
    }
   ],
   "source": [
    "# Correlação\n",
    "plt.figure(figsize=(10,6))\n",
    "sns.heatmap(dataframe[col_num + ['Revenue']].corr(), vmax=1, vmin=-1, annot=True)"
   ]
  },
  {
   "cell_type": "code",
   "execution_count": 129,
   "metadata": {},
   "outputs": [
    {
     "data": {
      "image/png": "[encoded data removed]",
      "text/plain": [
       "<Figure size 864x576 with 8 Axes>"
      ]
     },
     "metadata": {
      "needs_background": "light"
     },
     "output_type": "display_data"
    }
   ],
   "source": [
    "# Boxplots\n",
    "plt.figure(figsize=(12,8))\n",
    "\n",
    "for i,col in enumerate(col_num):\n",
    "    \n",
    "    plt.subplot(3,3,1+i)\n",
    "    dataframe.boxplot(col)\n",
    "    plt.tight_layout()"
   ]
  },
  {
   "cell_type": "code",
   "execution_count": 130,
   "metadata": {},
   "outputs": [
    {
     "data": {
      "image/png": "[encoded data removed]",
      "text/plain": [
       "<Figure size 720x432 with 1 Axes>"
      ]
     },
     "metadata": {
      "needs_background": "light"
     },
     "output_type": "display_data"
    }
   ],
   "source": [
    "# Variável categórica (\"Weekend\") com a target \"Revenue\"\n",
    "graf = pd.crosstab(dataframe['Weekend'], dataframe['Revenue']).plot(kind='bar', stacked=True, figsize=(10,6));"
   ]
  },
  {
   "cell_type": "code",
   "execution_count": 131,
   "metadata": {},
   "outputs": [
    {
     "data": {
      "image/png": "[encoded data removed]",
      "text/plain": [
       "<Figure size 720x432 with 1 Axes>"
      ]
     },
     "metadata": {
      "needs_background": "light"
     },
     "output_type": "display_data"
    }
   ],
   "source": [
    "# Variável categórica (\"Region\") com a target \"Revenue\"\n",
    "graf = pd.crosstab(dataframe['Region'], dataframe['Revenue']).plot(kind='bar', stacked=True, figsize=(10,6));"
   ]
  },
  {
   "cell_type": "markdown",
   "metadata": {},
   "source": [
    "# Pré-Processamento"
   ]
  },
  {
   "cell_type": "code",
   "execution_count": 132,
   "metadata": {},
   "outputs": [
    {
     "data": {
      "text/html": [
       "<div>\n",
       "<style scoped>\n",
       "    .dataframe tbody tr th:only-of-type {\n",
       "        vertical-align: middle;\n",
       "    }\n",
       "\n",
       "    .dataframe tbody tr th {\n",
       "        vertical-align: top;\n",
       "    }\n",
       "\n",
       "    .dataframe thead th {\n",
       "        text-align: right;\n",
       "    }\n",
       "</style>\n",
       "<table border=\"1\" class=\"dataframe\">\n",
       "  <thead>\n",
       "    <tr style=\"text-align: right;\">\n",
       "      <th></th>\n",
       "      <th>index</th>\n",
       "      <th>Administrative</th>\n",
       "      <th>Administrative_Duration</th>\n",
       "      <th>Informational</th>\n",
       "      <th>Informational_Duration</th>\n",
       "      <th>ProductRelated</th>\n",
       "      <th>ProductRelated_Duration</th>\n",
       "      <th>BounceRates</th>\n",
       "      <th>ExitRates</th>\n",
       "      <th>PageValues</th>\n",
       "      <th>SpecialDay</th>\n",
       "      <th>Month</th>\n",
       "      <th>OperatingSystems</th>\n",
       "      <th>Browser</th>\n",
       "      <th>Region</th>\n",
       "      <th>TrafficType</th>\n",
       "      <th>VisitorType</th>\n",
       "      <th>Weekend</th>\n",
       "      <th>Revenue</th>\n",
       "    </tr>\n",
       "  </thead>\n",
       "  <tbody>\n",
       "    <tr>\n",
       "      <th>0</th>\n",
       "      <td>0</td>\n",
       "      <td>0.0</td>\n",
       "      <td>0.0</td>\n",
       "      <td>0.0</td>\n",
       "      <td>0.0</td>\n",
       "      <td>1.0</td>\n",
       "      <td>0.0</td>\n",
       "      <td>0.2</td>\n",
       "      <td>0.2</td>\n",
       "      <td>0.0</td>\n",
       "      <td>0.0</td>\n",
       "      <td>2</td>\n",
       "      <td>1</td>\n",
       "      <td>1</td>\n",
       "      <td>1</td>\n",
       "      <td>1</td>\n",
       "      <td>2</td>\n",
       "      <td>0</td>\n",
       "      <td>False</td>\n",
       "    </tr>\n",
       "    <tr>\n",
       "      <th>1</th>\n",
       "      <td>1</td>\n",
       "      <td>0.0</td>\n",
       "      <td>0.0</td>\n",
       "      <td>0.0</td>\n",
       "      <td>0.0</td>\n",
       "      <td>2.0</td>\n",
       "      <td>64.0</td>\n",
       "      <td>0.0</td>\n",
       "      <td>0.1</td>\n",
       "      <td>0.0</td>\n",
       "      <td>0.0</td>\n",
       "      <td>2</td>\n",
       "      <td>2</td>\n",
       "      <td>2</td>\n",
       "      <td>1</td>\n",
       "      <td>2</td>\n",
       "      <td>2</td>\n",
       "      <td>0</td>\n",
       "      <td>False</td>\n",
       "    </tr>\n",
       "    <tr>\n",
       "      <th>2</th>\n",
       "      <td>2</td>\n",
       "      <td>0.0</td>\n",
       "      <td>-1.0</td>\n",
       "      <td>0.0</td>\n",
       "      <td>-1.0</td>\n",
       "      <td>1.0</td>\n",
       "      <td>-1.0</td>\n",
       "      <td>0.2</td>\n",
       "      <td>0.2</td>\n",
       "      <td>0.0</td>\n",
       "      <td>0.0</td>\n",
       "      <td>2</td>\n",
       "      <td>4</td>\n",
       "      <td>1</td>\n",
       "      <td>9</td>\n",
       "      <td>3</td>\n",
       "      <td>2</td>\n",
       "      <td>0</td>\n",
       "      <td>False</td>\n",
       "    </tr>\n",
       "  </tbody>\n",
       "</table>\n",
       "</div>"
      ],
      "text/plain": [
       "   index  Administrative  Administrative_Duration  Informational  \\\n",
       "0      0             0.0                      0.0            0.0   \n",
       "1      1             0.0                      0.0            0.0   \n",
       "2      2             0.0                     -1.0            0.0   \n",
       "\n",
       "   Informational_Duration  ProductRelated  ProductRelated_Duration  \\\n",
       "0                     0.0             1.0                      0.0   \n",
       "1                     0.0             2.0                     64.0   \n",
       "2                    -1.0             1.0                     -1.0   \n",
       "\n",
       "   BounceRates  ExitRates  PageValues  SpecialDay  Month  OperatingSystems  \\\n",
       "0          0.2        0.2         0.0         0.0      2                 1   \n",
       "1          0.0        0.1         0.0         0.0      2                 2   \n",
       "2          0.2        0.2         0.0         0.0      2                 4   \n",
       "\n",
       "   Browser  Region  TrafficType  VisitorType  Weekend  Revenue  \n",
       "0        1       1            1            2        0    False  \n",
       "1        2       1            2            2        0    False  \n",
       "2        1       9            3            2        0    False  "
      ]
     },
     "execution_count": 132,
     "metadata": {},
     "output_type": "execute_result"
    }
   ],
   "source": [
    "# Label enconder\n",
    "label_enconder = LabelEncoder()\n",
    "dataframe['VisitorType'] = label_enconder.fit_transform(dataframe['VisitorType'])\n",
    "dataframe['Weekend'] = label_enconder.fit_transform(dataframe['Weekend'])\n",
    "dataframe['Month'] = label_enconder.fit_transform(dataframe['Month'])\n",
    "\n",
    "dataframe.head(3)"
   ]
  },
  {
   "cell_type": "code",
   "execution_count": 133,
   "metadata": {},
   "outputs": [
    {
     "name": "stderr",
     "output_type": "stream",
     "text": [
      "C:\\Users\\Alvim Serrao\\anaconda3\\lib\\site-packages\\sklearn\\utils\\deprecation.py:87: FutureWarning: Function get_feature_names is deprecated; get_feature_names is deprecated in 1.0 and will be removed in 1.2. Please use get_feature_names_out instead.\n",
      "  warnings.warn(msg, category=FutureWarning)\n"
     ]
    }
   ],
   "source": [
    "# One Hot Enconder - Separando variáveis categóricas em colunas\n",
    "one_hot = OneHotEncoder(drop='first')\n",
    "\n",
    "# Valores \n",
    "array_ohe = one_hot.fit_transform(dataframe[['VisitorType', 'Weekend', 'Month']]).toarray()\n",
    "\n",
    "# Nomes colunas geradas\n",
    "columns_ohe = one_hot.get_feature_names()\n",
    "\n",
    "# Dataframe com novas colunas\n",
    "df_ohe = pd.DataFrame(data= array_ohe, columns=columns_ohe)"
   ]
  },
  {
   "cell_type": "code",
   "execution_count": 134,
   "metadata": {},
   "outputs": [],
   "source": [
    "# Concatenação de dois dataframe\n",
    "df_final = pd.concat([dataframe, df_ohe], axis=1)"
   ]
  },
  {
   "cell_type": "code",
   "execution_count": 135,
   "metadata": {},
   "outputs": [],
   "source": [
    "# Separando x e y\n",
    "x = df_final.drop(['Revenue'], axis=1)\n",
    "y = df_final['Revenue']"
   ]
  },
  {
   "cell_type": "code",
   "execution_count": 140,
   "metadata": {},
   "outputs": [],
   "source": [
    "# Balanceamento da variável target\n",
    "smote = imblearn.over_sampling.SMOTE(random_state=2)\n",
    "\n",
    "x_res, y_res = smote.fit_resample(x,y)\n",
    "\n",
    "x_res.drop(['index'], inplace=True, axis=1)"
   ]
  },
  {
   "cell_type": "code",
   "execution_count": 141,
   "metadata": {},
   "outputs": [],
   "source": [
    "# Divisão treino e teste\n",
    "x_train, x_test, y_train, y_test = train_test_split(x_res, y_res, test_size=.25, random_state=2)"
   ]
  },
  {
   "cell_type": "code",
   "execution_count": 142,
   "metadata": {},
   "outputs": [],
   "source": [
    "# Padronização\n",
    "std = StandardScaler()\n",
    "\n",
    "x_train = std.fit_transform(x_train)\n",
    "x_test = std.transform(x_test)"
   ]
  },
  {
   "cell_type": "markdown",
   "metadata": {},
   "source": [
    "# Algoritmo"
   ]
  },
  {
   "cell_type": "code",
   "execution_count": 143,
   "metadata": {},
   "outputs": [],
   "source": [
    "# BaseLine\n",
    "baseline_list = dataframe.shape[0]*[False]\n",
    "acc = accuracy_score(dataframe['Revenue'], baseline_list)\n",
    "\n",
    "df_resultado = pd.DataFrame([[acc, np.NAN, np.NAN, np.NAN, np.NAN]], \n",
    "                      columns= ['Acuracia', 'Precisao', 'Recall', 'F1', \"AUC\"],\n",
    "                      index=['Base_Line'])"
   ]
  },
  {
   "cell_type": "code",
   "execution_count": 144,
   "metadata": {},
   "outputs": [],
   "source": [
    "# Support Vector Machine\n",
    "model_svm = SVC()\n",
    "\n",
    "# Treinamento\n",
    "model_svm.fit(x_train, y_train)\n",
    "\n",
    "# Previsão\n",
    "pred_svm = model_svm.predict(x_test)\n",
    "\n",
    "# Métricas\n",
    "acc_svm = accuracy_score(pred_svm, y_test)\n",
    "prec_svm = precision_score(pred_svm, y_test)\n",
    "rec_svm = recall_score(pred_svm, y_test)\n",
    "f1_svm = f1_score(pred_svm, y_test)\n",
    "auc_svm = roc_auc_score(y_test, pred_svm) # Ordem dos parâmetros IMPORTA\n",
    "\n",
    "# Criação do df de resultados e valores da métricas geradas pelo SVM\n",
    "svm_df = pd.DataFrame([[acc_svm, prec_svm, rec_svm, f1_svm, auc_svm]], \n",
    "                      columns= ['Acuracia', 'Precisao', 'Recall', 'F1', \"AUC\"],\n",
    "                      index=['SVM'])\n",
    "\n",
    "df_resultado = df_resultado.append(svm_df)"
   ]
  },
  {
   "cell_type": "code",
   "execution_count": 145,
   "metadata": {},
   "outputs": [],
   "source": [
    "# Regressão Logística\n",
    "model_reg = LogisticRegression(max_iter=3000)\n",
    "\n",
    "# Treinamento\n",
    "model_reg.fit(x_train, y_train)\n",
    "\n",
    "# Previsão\n",
    "pred_reg = model_reg.predict(x_test)\n",
    "\n",
    "# Métricas\n",
    "acc_reg = accuracy_score(pred_reg, y_test)\n",
    "prec_reg = precision_score(pred_reg, y_test)\n",
    "rec_reg = recall_score(pred_reg, y_test)\n",
    "f1_reg = f1_score(pred_reg, y_test)\n",
    "auc_reg = roc_auc_score(y_test, pred_reg) # Ordem dos parâmetros IMPORTA\n",
    "\n",
    "# Valores da métricas geradas pela Regressão Logistica\n",
    "reg_df = pd.DataFrame([[acc_reg, prec_reg, rec_reg, f1_reg, auc_reg]], \n",
    "                      columns= ['Acuracia', 'Precisao', 'Recall', 'F1', \"AUC\"],\n",
    "                      index=['Regressao_Logistica'])\n",
    "\n",
    "df_resultado = df_resultado.append(reg_df)"
   ]
  },
  {
   "cell_type": "code",
   "execution_count": 146,
   "metadata": {},
   "outputs": [],
   "source": [
    "# Random Forest\n",
    "model_forest = RandomForestClassifier()\n",
    "\n",
    "# Treinamento\n",
    "model_forest.fit(x_train, y_train)\n",
    "\n",
    "# Previsão\n",
    "pred_forest = model_forest.predict(x_test)\n",
    "\n",
    "# Métrica\n",
    "acc_forest = accuracy_score(pred_forest, y_test)\n",
    "prec_forest = precision_score(pred_forest, y_test)\n",
    "rec_forest = recall_score(pred_forest, y_test)\n",
    "f1_forest = f1_score(pred_forest, y_test)\n",
    "auc_forest = roc_auc_score(y_test, pred_forest) # Ordem dos parâmetros IMPORTA\n",
    "\n",
    "# Valores da métricas geradas pelo Random Forest\n",
    "forest_df = pd.DataFrame([[acc_forest, prec_forest, rec_forest, f1_forest, auc_forest]], \n",
    "                      columns= ['Acuracia', 'Precisao', 'Recall', 'F1', \"AUC\"],\n",
    "                      index=['Random_Forest'])\n",
    "\n",
    "df_resultado = df_resultado.append(forest_df)"
   ]
  },
  {
   "cell_type": "code",
   "execution_count": 147,
   "metadata": {},
   "outputs": [],
   "source": [
    "# AdaBoost\n",
    "model_ada = AdaBoostClassifier()\n",
    "\n",
    "# Treinamento\n",
    "model_ada.fit(x_train, y_train)\n",
    "\n",
    "# Previsão\n",
    "pred_ada = model_ada.predict(x_test)\n",
    "\n",
    "# Métricas\n",
    "acc_ada = accuracy_score(pred_ada, y_test)\n",
    "prec_ada = precision_score(pred_ada, y_test)\n",
    "rec_ada = recall_score(pred_ada, y_test)\n",
    "f1_ada = f1_score(pred_ada, y_test)\n",
    "auc_ada = roc_auc_score(y_test, pred_ada) # Ordem dos parâmetros IMPORTA\n",
    "\n",
    "# Valores da métricas geradas pelo AdaBoost\n",
    "ada_df = pd.DataFrame([[acc_ada, prec_ada, rec_ada, f1_ada, auc_ada]], \n",
    "                      columns= ['Acuracia', 'Precisao', 'Recall', 'F1', \"AUC\"],\n",
    "                      index=['AdaBoost'])\n",
    "\n",
    "df_resultado = df_resultado.append(ada_df)"
   ]
  },
  {
   "cell_type": "code",
   "execution_count": 148,
   "metadata": {},
   "outputs": [],
   "source": [
    "# Bagging\n",
    "model_bag = BaggingClassifier()\n",
    "\n",
    "# Treinamento\n",
    "model_bag.fit(x_train, y_train)\n",
    "\n",
    "# Previsão\n",
    "pred_bag = model_bag.predict(x_test)\n",
    "\n",
    "# Métricas\n",
    "acc_bag = accuracy_score(pred_bag, y_test)\n",
    "prec_bag = precision_score(pred_bag, y_test)\n",
    "rec_bag = recall_score(pred_bag, y_test)\n",
    "f1_bag = f1_score(pred_bag, y_test)\n",
    "auc_bag = roc_auc_score(y_test, pred_bag) # Ordem dos parâmetros IMPORTA\n",
    "\n",
    "# Valores da métricas geradas pelo Bagging\n",
    "bag_df = pd.DataFrame([[acc_bag, prec_bag, rec_bag, f1_bag, auc_bag]], \n",
    "                      columns= ['Acuracia', 'Precisao', 'Recall', 'F1', \"AUC\"],\n",
    "                      index=['Bagging'])\n",
    "\n",
    "df_resultado = df_resultado.append(bag_df)"
   ]
  },
  {
   "cell_type": "code",
   "execution_count": 149,
   "metadata": {},
   "outputs": [
    {
     "data": {
      "text/html": [
       "<div>\n",
       "<style scoped>\n",
       "    .dataframe tbody tr th:only-of-type {\n",
       "        vertical-align: middle;\n",
       "    }\n",
       "\n",
       "    .dataframe tbody tr th {\n",
       "        vertical-align: top;\n",
       "    }\n",
       "\n",
       "    .dataframe thead th {\n",
       "        text-align: right;\n",
       "    }\n",
       "</style>\n",
       "<table border=\"1\" class=\"dataframe\">\n",
       "  <thead>\n",
       "    <tr style=\"text-align: right;\">\n",
       "      <th></th>\n",
       "      <th>Acuracia</th>\n",
       "      <th>Precisao</th>\n",
       "      <th>Recall</th>\n",
       "      <th>F1</th>\n",
       "      <th>AUC</th>\n",
       "    </tr>\n",
       "  </thead>\n",
       "  <tbody>\n",
       "    <tr>\n",
       "      <th>Base_Line</th>\n",
       "      <td>0.845080</td>\n",
       "      <td>NaN</td>\n",
       "      <td>NaN</td>\n",
       "      <td>NaN</td>\n",
       "      <td>NaN</td>\n",
       "    </tr>\n",
       "    <tr>\n",
       "      <th>SVM</th>\n",
       "      <td>0.912183</td>\n",
       "      <td>0.885544</td>\n",
       "      <td>0.941153</td>\n",
       "      <td>0.912502</td>\n",
       "      <td>0.913126</td>\n",
       "    </tr>\n",
       "    <tr>\n",
       "      <th>Regressao_Logistica</th>\n",
       "      <td>0.890469</td>\n",
       "      <td>0.843181</td>\n",
       "      <td>0.938767</td>\n",
       "      <td>0.888410</td>\n",
       "      <td>0.892144</td>\n",
       "    </tr>\n",
       "    <tr>\n",
       "      <th>Random_Forest</th>\n",
       "      <td>0.937548</td>\n",
       "      <td>0.946860</td>\n",
       "      <td>0.933333</td>\n",
       "      <td>0.940048</td>\n",
       "      <td>0.937218</td>\n",
       "    </tr>\n",
       "    <tr>\n",
       "      <th>AdaBoost</th>\n",
       "      <td>0.918332</td>\n",
       "      <td>0.929394</td>\n",
       "      <td>0.914108</td>\n",
       "      <td>0.921688</td>\n",
       "      <td>0.917940</td>\n",
       "    </tr>\n",
       "    <tr>\n",
       "      <th>Bagging</th>\n",
       "      <td>0.934666</td>\n",
       "      <td>0.938313</td>\n",
       "      <td>0.935532</td>\n",
       "      <td>0.936920</td>\n",
       "      <td>0.934536</td>\n",
       "    </tr>\n",
       "  </tbody>\n",
       "</table>\n",
       "</div>"
      ],
      "text/plain": [
       "                     Acuracia  Precisao    Recall        F1       AUC\n",
       "Base_Line            0.845080       NaN       NaN       NaN       NaN\n",
       "SVM                  0.912183  0.885544  0.941153  0.912502  0.913126\n",
       "Regressao_Logistica  0.890469  0.843181  0.938767  0.888410  0.892144\n",
       "Random_Forest        0.937548  0.946860  0.933333  0.940048  0.937218\n",
       "AdaBoost             0.918332  0.929394  0.914108  0.921688  0.917940\n",
       "Bagging              0.934666  0.938313  0.935532  0.936920  0.934536"
      ]
     },
     "execution_count": 149,
     "metadata": {},
     "output_type": "execute_result"
    }
   ],
   "source": [
    "df_resultado"
   ]
  },
  {
   "cell_type": "markdown",
   "metadata": {},
   "source": [
    "#### Algoritmo que teve melhor perfomance foi o Random_Forest. Agora vai ser trabalhado seleção de variável e random search"
   ]
  },
  {
   "cell_type": "code",
   "execution_count": 48,
   "metadata": {},
   "outputs": [
    {
     "data": {
      "text/html": [
       "<style>#sk-container-id-3 {color: black;background-color: white;}#sk-container-id-3 pre{padding: 0;}#sk-container-id-3 div.sk-toggleable {background-color: white;}#sk-container-id-3 label.sk-toggleable__label {cursor: pointer;display: block;width: 100%;margin-bottom: 0;padding: 0.3em;box-sizing: border-box;text-align: center;}#sk-container-id-3 label.sk-toggleable__label-arrow:before {content: \"▸\";float: left;margin-right: 0.25em;color: #696969;}#sk-container-id-3 label.sk-toggleable__label-arrow:hover:before {color: black;}#sk-container-id-3 div.sk-estimator:hover label.sk-toggleable__label-arrow:before {color: black;}#sk-container-id-3 div.sk-toggleable__content {max-height: 0;max-width: 0;overflow: hidden;text-align: left;background-color: #f0f8ff;}#sk-container-id-3 div.sk-toggleable__content pre {margin: 0.2em;color: black;border-radius: 0.25em;background-color: #f0f8ff;}#sk-container-id-3 input.sk-toggleable__control:checked~div.sk-toggleable__content {max-height: 200px;max-width: 100%;overflow: auto;}#sk-container-id-3 input.sk-toggleable__control:checked~label.sk-toggleable__label-arrow:before {content: \"▾\";}#sk-container-id-3 div.sk-estimator input.sk-toggleable__control:checked~label.sk-toggleable__label {background-color: #d4ebff;}#sk-container-id-3 div.sk-label input.sk-toggleable__control:checked~label.sk-toggleable__label {background-color: #d4ebff;}#sk-container-id-3 input.sk-hidden--visually {border: 0;clip: rect(1px 1px 1px 1px);clip: rect(1px, 1px, 1px, 1px);height: 1px;margin: -1px;overflow: hidden;padding: 0;position: absolute;width: 1px;}#sk-container-id-3 div.sk-estimator {font-family: monospace;background-color: #f0f8ff;border: 1px dotted black;border-radius: 0.25em;box-sizing: border-box;margin-bottom: 0.5em;}#sk-container-id-3 div.sk-estimator:hover {background-color: #d4ebff;}#sk-container-id-3 div.sk-parallel-item::after {content: \"\";width: 100%;border-bottom: 1px solid gray;flex-grow: 1;}#sk-container-id-3 div.sk-label:hover label.sk-toggleable__label {background-color: #d4ebff;}#sk-container-id-3 div.sk-serial::before {content: \"\";position: absolute;border-left: 1px solid gray;box-sizing: border-box;top: 0;bottom: 0;left: 50%;z-index: 0;}#sk-container-id-3 div.sk-serial {display: flex;flex-direction: column;align-items: center;background-color: white;padding-right: 0.2em;padding-left: 0.2em;position: relative;}#sk-container-id-3 div.sk-item {position: relative;z-index: 1;}#sk-container-id-3 div.sk-parallel {display: flex;align-items: stretch;justify-content: center;background-color: white;position: relative;}#sk-container-id-3 div.sk-item::before, #sk-container-id-3 div.sk-parallel-item::before {content: \"\";position: absolute;border-left: 1px solid gray;box-sizing: border-box;top: 0;bottom: 0;left: 50%;z-index: -1;}#sk-container-id-3 div.sk-parallel-item {display: flex;flex-direction: column;z-index: 1;position: relative;background-color: white;}#sk-container-id-3 div.sk-parallel-item:first-child::after {align-self: flex-end;width: 50%;}#sk-container-id-3 div.sk-parallel-item:last-child::after {align-self: flex-start;width: 50%;}#sk-container-id-3 div.sk-parallel-item:only-child::after {width: 0;}#sk-container-id-3 div.sk-dashed-wrapped {border: 1px dashed gray;margin: 0 0.4em 0.5em 0.4em;box-sizing: border-box;padding-bottom: 0.4em;background-color: white;}#sk-container-id-3 div.sk-label label {font-family: monospace;font-weight: bold;display: inline-block;line-height: 1.2em;}#sk-container-id-3 div.sk-label-container {text-align: center;}#sk-container-id-3 div.sk-container {/* jupyter's `normalize.less` sets `[hidden] { display: none; }` but bootstrap.min.css set `[hidden] { display: none !important; }` so we also need the `!important` here to be able to override the default hidden behavior on the sphinx rendered scikit-learn.org. See: https://github.com/scikit-learn/scikit-learn/issues/21755 */display: inline-block !important;position: relative;}#sk-container-id-3 div.sk-text-repr-fallback {display: none;}</style><div id=\"sk-container-id-3\" class=\"sk-top-container\"><div class=\"sk-text-repr-fallback\"><pre>RandomizedSearchCV(cv=4, estimator=RandomForestClassifier(),\n",
       "                   param_distributions={&#x27;criterion&#x27;: [&#x27;gini&#x27;, &#x27;entropy&#x27;],\n",
       "                                        &#x27;max_features&#x27;: [&#x27;log2&#x27;, &#x27;sqrt&#x27;],\n",
       "                                        &#x27;n_estimators&#x27;: [50, 100, 200, 400, 600,\n",
       "                                                         800, 1000]})</pre><b>In a Jupyter environment, please rerun this cell to show the HTML representation or trust the notebook. <br />On GitHub, the HTML representation is unable to render, please try loading this page with nbviewer.org.</b></div><div class=\"sk-container\" hidden><div class=\"sk-item sk-dashed-wrapped\"><div class=\"sk-label-container\"><div class=\"sk-label sk-toggleable\"><input class=\"sk-toggleable__control sk-hidden--visually\" id=\"sk-estimator-id-7\" type=\"checkbox\" ><label for=\"sk-estimator-id-7\" class=\"sk-toggleable__label sk-toggleable__label-arrow\">RandomizedSearchCV</label><div class=\"sk-toggleable__content\"><pre>RandomizedSearchCV(cv=4, estimator=RandomForestClassifier(),\n",
       "                   param_distributions={&#x27;criterion&#x27;: [&#x27;gini&#x27;, &#x27;entropy&#x27;],\n",
       "                                        &#x27;max_features&#x27;: [&#x27;log2&#x27;, &#x27;sqrt&#x27;],\n",
       "                                        &#x27;n_estimators&#x27;: [50, 100, 200, 400, 600,\n",
       "                                                         800, 1000]})</pre></div></div></div><div class=\"sk-parallel\"><div class=\"sk-parallel-item\"><div class=\"sk-item\"><div class=\"sk-label-container\"><div class=\"sk-label sk-toggleable\"><input class=\"sk-toggleable__control sk-hidden--visually\" id=\"sk-estimator-id-8\" type=\"checkbox\" ><label for=\"sk-estimator-id-8\" class=\"sk-toggleable__label sk-toggleable__label-arrow\">estimator: RandomForestClassifier</label><div class=\"sk-toggleable__content\"><pre>RandomForestClassifier()</pre></div></div></div><div class=\"sk-serial\"><div class=\"sk-item\"><div class=\"sk-estimator sk-toggleable\"><input class=\"sk-toggleable__control sk-hidden--visually\" id=\"sk-estimator-id-9\" type=\"checkbox\" ><label for=\"sk-estimator-id-9\" class=\"sk-toggleable__label sk-toggleable__label-arrow\">RandomForestClassifier</label><div class=\"sk-toggleable__content\"><pre>RandomForestClassifier()</pre></div></div></div></div></div></div></div></div></div></div>"
      ],
      "text/plain": [
       "RandomizedSearchCV(cv=4, estimator=RandomForestClassifier(),\n",
       "                   param_distributions={'criterion': ['gini', 'entropy'],\n",
       "                                        'max_features': ['log2', 'sqrt'],\n",
       "                                        'n_estimators': [50, 100, 200, 400, 600,\n",
       "                                                         800, 1000]})"
      ]
     },
     "execution_count": 48,
     "metadata": {},
     "output_type": "execute_result"
    }
   ],
   "source": [
    "# Listas de hiperparâmetros para serem testados\n",
    "n_estimators = [50, 100, 200, 400 , 600, 800, 1000]\n",
    "criterion = ['gini', 'entropy']\n",
    "max_features = ['log2', 'sqrt']\n",
    "\n",
    "# Dicionário com valores para Random Search\n",
    "dict_param = {'n_estimators': n_estimators,\n",
    "             'criterion': criterion,\n",
    "             'max_features': max_features}\n",
    "\n",
    "# Modelo\n",
    "random_model = RandomizedSearchCV(estimator=model_forest, param_distributions=dict_param, n_iter=10, cv=4)\n",
    "\n",
    "# Treino modelo\n",
    "random_model.fit(x_train, y_train)"
   ]
  },
  {
   "cell_type": "code",
   "execution_count": 49,
   "metadata": {},
   "outputs": [
    {
     "data": {
      "text/plain": [
       "{'n_estimators': 600, 'max_features': 'log2', 'criterion': 'gini'}"
      ]
     },
     "execution_count": 49,
     "metadata": {},
     "output_type": "execute_result"
    }
   ],
   "source": [
    "# Melhores parâmetros\n",
    "random_model.best_params_"
   ]
  },
  {
   "cell_type": "code",
   "execution_count": 54,
   "metadata": {},
   "outputs": [
    {
     "data": {
      "text/html": [
       "<div>\n",
       "<style scoped>\n",
       "    .dataframe tbody tr th:only-of-type {\n",
       "        vertical-align: middle;\n",
       "    }\n",
       "\n",
       "    .dataframe tbody tr th {\n",
       "        vertical-align: top;\n",
       "    }\n",
       "\n",
       "    .dataframe thead th {\n",
       "        text-align: right;\n",
       "    }\n",
       "</style>\n",
       "<table border=\"1\" class=\"dataframe\">\n",
       "  <thead>\n",
       "    <tr style=\"text-align: right;\">\n",
       "      <th></th>\n",
       "      <th>Acuracia</th>\n",
       "      <th>Precisao</th>\n",
       "      <th>Recall</th>\n",
       "      <th>F1</th>\n",
       "      <th>AUC</th>\n",
       "    </tr>\n",
       "  </thead>\n",
       "  <tbody>\n",
       "    <tr>\n",
       "      <th>Random Forest</th>\n",
       "      <td>0.94043</td>\n",
       "      <td>0.950204</td>\n",
       "      <td>0.935602</td>\n",
       "      <td>0.922138</td>\n",
       "      <td>0.940084</td>\n",
       "    </tr>\n",
       "  </tbody>\n",
       "</table>\n",
       "</div>"
      ],
      "text/plain": [
       "               Acuracia  Precisao    Recall        F1       AUC\n",
       "Random Forest   0.94043  0.950204  0.935602  0.922138  0.940084"
      ]
     },
     "execution_count": 54,
     "metadata": {},
     "output_type": "execute_result"
    }
   ],
   "source": [
    "# Modelo random forest com os melhores parâmetros\n",
    "forest = RandomForestClassifier(n_estimators=600, max_features='log2', criterion='gini')\n",
    "\n",
    "# Treinamento\n",
    "forest.fit(x_train, y_train)\n",
    "\n",
    "# Previsão\n",
    "pred_forest = forest.predict(x_test)\n",
    "\n",
    "# Métricas\n",
    "acc_forest = accuracy_score(pred_forest, y_test)\n",
    "prec_forest = precision_score(pred_forest, y_test)\n",
    "rec_forest = recall_score(pred_forest, y_test)\n",
    "f1_forest = f1_score(pred_forest, y_test)\n",
    "auc_forest = roc_auc_score(y_test, pred_forest)\n",
    "\n",
    "# DataFrame\n",
    "pd.DataFrame([[acc_forest, prec_forest, rec_forest, f1_forest, auc_forest]], \n",
    "                      columns= ['Acuracia', 'Precisao', 'Recall', 'F1', \"AUC\"],\n",
    "                      index=['Random Forest'])"
   ]
  },
  {
   "cell_type": "markdown",
   "metadata": {},
   "source": [
    "#### Algoritmo se manteve nas métricas, apesar de ter utilizado Random Search para achar os melhores hiperparâmetros. Irei continuar utilizando o modelo afim de estudos e prática. "
   ]
  },
  {
   "cell_type": "code",
   "execution_count": 175,
   "metadata": {},
   "outputs": [
    {
     "name": "stdout",
     "output_type": "stream",
     "text": [
      "Valor de k: 4\n",
      "\n",
      "Acúracia: 0.8921983089930823\n",
      "Precisão: 0.9108138238573021\n",
      "Recall: 0.8841991341991342\n",
      "f1: 0.8973091707852829\n",
      "AUC: 0.8915390249409868\n",
      "\n",
      "**************************************************\n",
      "Valor de k: 8\n",
      "\n",
      "Acúracia: 0.9265949269792467\n",
      "Precisão: 0.9401709401709402\n",
      "Recall: 0.9196655761541258\n",
      "f1: 0.9298052186696069\n",
      "AUC: 0.9261141211001936\n",
      "\n",
      "**************************************************\n",
      "Valor de k: 12\n",
      "\n",
      "Acúracia: 0.9277478862413528\n",
      "Precisão: 0.9401709401709402\n",
      "Recall: 0.9216757741347905\n",
      "f1: 0.930831493745401\n",
      "AUC: 0.9273079133803368\n",
      "\n",
      "**************************************************\n",
      "Valor de k: 16\n",
      "\n",
      "Acúracia: 0.9346656418139893\n",
      "Precisão: 0.9479747305834262\n",
      "Recall: 0.9272991639403854\n",
      "f1: 0.9375229694965087\n",
      "AUC: 0.9341942892869379\n",
      "\n",
      "**************************************************\n",
      "Valor de k: 20\n",
      "\n",
      "Acúracia: 0.9350499615680246\n",
      "Precisão: 0.9479747305834262\n",
      "Recall: 0.9279738086576937\n",
      "f1: 0.9378676470588235\n",
      "AUC: 0.9345922200469856\n",
      "\n",
      "**************************************************\n",
      "Valor de k: 24\n",
      "\n",
      "Acúracia: 0.9390853189853958\n",
      "Precisão: 0.9483463396506875\n",
      "Recall: 0.9347985347985348\n",
      "f1: 0.9415237041136323\n",
      "AUC: 0.9387573321810938\n",
      "\n",
      "**************************************************\n",
      "Valor de k: 28\n",
      "\n",
      "Acúracia: 0.9394696387394312\n",
      "Precisão: 0.9487179487179487\n",
      "Recall: 0.9351648351648352\n",
      "f1: 0.9418926397343663\n",
      "AUC: 0.9391421020947484\n",
      "\n",
      "**************************************************\n"
     ]
    }
   ],
   "source": [
    "# Loop variando a quantidade de variáveis preditora para o SelectKBest\n",
    "for i in range(4,30,4):\n",
    "    k_best = SelectKBest(score_func=f_classif, k=i)\n",
    "\n",
    "    # Dataframes com as variáveis\n",
    "    x_best = pd.DataFrame(x_train, columns=x_res.columns)\n",
    "    x_best_test = pd.DataFrame(x_test, columns=x_res.columns)\n",
    "\n",
    "    # Treinamento Kbest\n",
    "    k_best.fit(x_best, y_train)\n",
    "\n",
    "    # Instanciando algoritmo Random Forest\n",
    "    forest = RandomForestClassifier(n_estimators=600, max_features='log2', criterion='gini')\n",
    "\n",
    "    # Treinamento Random Forest\n",
    "    forest.fit(x_best[k_best.get_feature_names_out()], y_train)\n",
    "\n",
    "    # Previsão\n",
    "    pred_forest = forest.predict(x_best_test[k_best.get_feature_names_out()])\n",
    "\n",
    "    # Métricas\n",
    "    acc_forest = accuracy_score(pred_forest, y_test)\n",
    "    prec_forest = precision_score(pred_forest, y_test)\n",
    "    rec_forest = recall_score(pred_forest, y_test)\n",
    "    f1_forest = f1_score(pred_forest, y_test)\n",
    "    auc_forest = roc_auc_score(y_test, pred_forest)\n",
    "\n",
    "    print(f'Valor de k: {i}')\n",
    "    print(f'\\nAcúracia: {acc_forest}')\n",
    "    print(f'Precisão: {prec_forest}')\n",
    "    print(f'Recall: {rec_forest}')\n",
    "    print(f'f1: {f1_forest}')\n",
    "    print(f'AUC: {auc_forest}\\n')\n",
    "    print('*'*50)"
   ]
  },
  {
   "cell_type": "code",
   "execution_count": 177,
   "metadata": {},
   "outputs": [
    {
     "name": "stdout",
     "output_type": "stream",
     "text": [
      "\n",
      "Acúracia: 0.940238278247502\n",
      "Precisão: 0.950575994054255\n",
      "Recall: 0.9349415204678363\n",
      "f1: 0.9426939377188134\n",
      "AUC: 0.9398721593828777\n",
      "\n"
     ]
    }
   ],
   "source": [
    "# Utilizando as melhores 24 variáveis preditora\n",
    "k_best = SelectKBest(score_func=f_classif, k=24)\n",
    "\n",
    "x_best = pd.DataFrame(x_train, columns=x_res.columns)\n",
    "x_best_test = pd.DataFrame(x_test, columns=x_res.columns)\n",
    "\n",
    "k_best.fit(x_best, y_train)\n",
    "\n",
    "forest = RandomForestClassifier(n_estimators=600, max_features='log2', criterion='gini')\n",
    "\n",
    "forest.fit(x_best[k_best.get_feature_names_out()], y_train)\n",
    "\n",
    "pred_forest = forest.predict(x_best_test[k_best.get_feature_names_out()])\n",
    "\n",
    "acc_forest = accuracy_score(pred_forest, y_test)\n",
    "prec_forest = precision_score(pred_forest, y_test)\n",
    "rec_forest = recall_score(pred_forest, y_test)\n",
    "f1_forest = f1_score(pred_forest, y_test)\n",
    "auc_forest = roc_auc_score(y_test, pred_forest)\n",
    "\n",
    "print(f'\\nAcúracia: {acc_forest}')\n",
    "print(f'Precisão: {prec_forest}')\n",
    "print(f'Recall: {rec_forest}')\n",
    "print(f'f1: {f1_forest}')\n",
    "print(f'AUC: {auc_forest}\\n')"
   ]
  },
  {
   "cell_type": "code",
   "execution_count": 179,
   "metadata": {},
   "outputs": [
    {
     "data": {
      "text/plain": [
       "array(['Administrative', 'Administrative_Duration', 'Informational',\n",
       "       'Informational_Duration', 'ProductRelated',\n",
       "       'ProductRelated_Duration', 'BounceRates', 'ExitRates',\n",
       "       'PageValues', 'SpecialDay', 'Month', 'OperatingSystems', 'Region',\n",
       "       'TrafficType', 'VisitorType', 'Weekend', 'x0_2', 'x1_1', 'x2_1',\n",
       "       'x2_2', 'x2_5', 'x2_6', 'x2_7', 'x2_8'], dtype=object)"
      ]
     },
     "execution_count": 179,
     "metadata": {},
     "output_type": "execute_result"
    }
   ],
   "source": [
    "# 24 melhores features utilizados\n",
    "k_best.get_feature_names_out()"
   ]
  }
 ],
 "metadata": {
  "kernelspec": {
   "display_name": "Python 3",
   "language": "python",
   "name": "python3"
  },
  "language_info": {
   "codemirror_mode": {
    "name": "ipython",
    "version": 3
   },
   "file_extension": ".py",
   "mimetype": "text/x-python",
   "name": "python",
   "nbconvert_exporter": "python",
   "pygments_lexer": "ipython3",
   "version": "3.8.8"
  }
 },
 "nbformat": 4,
 "nbformat_minor": 4
}
