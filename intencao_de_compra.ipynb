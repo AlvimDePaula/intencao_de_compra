{
 "cells": [
  {
   "cell_type": "markdown",
   "metadata": {},
   "source": [
    "### Projeto - Intenção de Compra\n",
    "\n",
    "É um projeto explorado no capitulo 11 do curso de Machine Learning da DSA. Aqui irei explorar os dados e fazer as minhas analise. \n",
    "\n",
    "link para o datset: https://archive.ics.uci.edu/ml/datasets/Online+Shoppers+Purchasing+Intention+Dataset\n",
    "\n",
    "O conjunto de dados consiste em vetores de recursos pertencentes a 12.330 sessões online. O conjunto de dados foi formado de modo que cada sessão pertença a um usuário diferente em um período de 1 ano para evitar qualquer tendência para uma campanha específica, dia especial, usuário, perfil ou período."
   ]
  },
  {
   "cell_type": "code",
   "execution_count": 144,
   "metadata": {},
   "outputs": [],
   "source": [
    "import pandas as pd\n",
    "import numpy as np\n",
    "import matplotlib.pyplot as plt\n",
    "import seaborn as sns\n",
    "\n",
    "from sklearn.svm import SVC\n",
    "from sklearn.ensemble import RandomForestClassifier, AdaBoostClassifier, BaggingClassifier\n",
    "from sklearn.linear_model import LogisticRegression\n",
    "\n",
    "from sklearn.metrics import accuracy_score, precision_score, recall_score, f1_score, roc_auc_score\n",
    "from sklearn.preprocessing import LabelEncoder, OneHotEncoder\n",
    "from sklearn.model_selection import train_test_split\n",
    "from sklearn.preprocessing import StandardScaler"
   ]
  },
  {
   "cell_type": "code",
   "execution_count": 145,
   "metadata": {},
   "outputs": [],
   "source": [
    "dataframe = pd.read_csv('online_shoppers_intention.csv')"
   ]
  },
  {
   "cell_type": "code",
   "execution_count": 146,
   "metadata": {},
   "outputs": [
    {
     "data": {
      "text/html": [
       "<div>\n",
       "<style scoped>\n",
       "    .dataframe tbody tr th:only-of-type {\n",
       "        vertical-align: middle;\n",
       "    }\n",
       "\n",
       "    .dataframe tbody tr th {\n",
       "        vertical-align: top;\n",
       "    }\n",
       "\n",
       "    .dataframe thead th {\n",
       "        text-align: right;\n",
       "    }\n",
       "</style>\n",
       "<table border=\"1\" class=\"dataframe\">\n",
       "  <thead>\n",
       "    <tr style=\"text-align: right;\">\n",
       "      <th></th>\n",
       "      <th>Administrative</th>\n",
       "      <th>Administrative_Duration</th>\n",
       "      <th>Informational</th>\n",
       "      <th>Informational_Duration</th>\n",
       "      <th>ProductRelated</th>\n",
       "      <th>ProductRelated_Duration</th>\n",
       "      <th>BounceRates</th>\n",
       "      <th>ExitRates</th>\n",
       "      <th>PageValues</th>\n",
       "      <th>SpecialDay</th>\n",
       "      <th>Month</th>\n",
       "      <th>OperatingSystems</th>\n",
       "      <th>Browser</th>\n",
       "      <th>Region</th>\n",
       "      <th>TrafficType</th>\n",
       "      <th>VisitorType</th>\n",
       "      <th>Weekend</th>\n",
       "      <th>Revenue</th>\n",
       "    </tr>\n",
       "  </thead>\n",
       "  <tbody>\n",
       "    <tr>\n",
       "      <th>0</th>\n",
       "      <td>0.0</td>\n",
       "      <td>0.0</td>\n",
       "      <td>0.0</td>\n",
       "      <td>0.0</td>\n",
       "      <td>1.0</td>\n",
       "      <td>0.000000</td>\n",
       "      <td>0.20</td>\n",
       "      <td>0.20</td>\n",
       "      <td>0.0</td>\n",
       "      <td>0.0</td>\n",
       "      <td>Feb</td>\n",
       "      <td>1</td>\n",
       "      <td>1</td>\n",
       "      <td>1</td>\n",
       "      <td>1</td>\n",
       "      <td>Returning_Visitor</td>\n",
       "      <td>False</td>\n",
       "      <td>False</td>\n",
       "    </tr>\n",
       "    <tr>\n",
       "      <th>1</th>\n",
       "      <td>0.0</td>\n",
       "      <td>0.0</td>\n",
       "      <td>0.0</td>\n",
       "      <td>0.0</td>\n",
       "      <td>2.0</td>\n",
       "      <td>64.000000</td>\n",
       "      <td>0.00</td>\n",
       "      <td>0.10</td>\n",
       "      <td>0.0</td>\n",
       "      <td>0.0</td>\n",
       "      <td>Feb</td>\n",
       "      <td>2</td>\n",
       "      <td>2</td>\n",
       "      <td>1</td>\n",
       "      <td>2</td>\n",
       "      <td>Returning_Visitor</td>\n",
       "      <td>False</td>\n",
       "      <td>False</td>\n",
       "    </tr>\n",
       "    <tr>\n",
       "      <th>2</th>\n",
       "      <td>0.0</td>\n",
       "      <td>-1.0</td>\n",
       "      <td>0.0</td>\n",
       "      <td>-1.0</td>\n",
       "      <td>1.0</td>\n",
       "      <td>-1.000000</td>\n",
       "      <td>0.20</td>\n",
       "      <td>0.20</td>\n",
       "      <td>0.0</td>\n",
       "      <td>0.0</td>\n",
       "      <td>Feb</td>\n",
       "      <td>4</td>\n",
       "      <td>1</td>\n",
       "      <td>9</td>\n",
       "      <td>3</td>\n",
       "      <td>Returning_Visitor</td>\n",
       "      <td>False</td>\n",
       "      <td>False</td>\n",
       "    </tr>\n",
       "    <tr>\n",
       "      <th>3</th>\n",
       "      <td>0.0</td>\n",
       "      <td>0.0</td>\n",
       "      <td>0.0</td>\n",
       "      <td>0.0</td>\n",
       "      <td>2.0</td>\n",
       "      <td>2.666667</td>\n",
       "      <td>0.05</td>\n",
       "      <td>0.14</td>\n",
       "      <td>0.0</td>\n",
       "      <td>0.0</td>\n",
       "      <td>Feb</td>\n",
       "      <td>3</td>\n",
       "      <td>2</td>\n",
       "      <td>2</td>\n",
       "      <td>4</td>\n",
       "      <td>Returning_Visitor</td>\n",
       "      <td>False</td>\n",
       "      <td>False</td>\n",
       "    </tr>\n",
       "    <tr>\n",
       "      <th>4</th>\n",
       "      <td>0.0</td>\n",
       "      <td>0.0</td>\n",
       "      <td>0.0</td>\n",
       "      <td>0.0</td>\n",
       "      <td>10.0</td>\n",
       "      <td>627.500000</td>\n",
       "      <td>0.02</td>\n",
       "      <td>0.05</td>\n",
       "      <td>0.0</td>\n",
       "      <td>0.0</td>\n",
       "      <td>Feb</td>\n",
       "      <td>3</td>\n",
       "      <td>3</td>\n",
       "      <td>1</td>\n",
       "      <td>4</td>\n",
       "      <td>Returning_Visitor</td>\n",
       "      <td>True</td>\n",
       "      <td>False</td>\n",
       "    </tr>\n",
       "  </tbody>\n",
       "</table>\n",
       "</div>"
      ],
      "text/plain": [
       "   Administrative  Administrative_Duration  Informational  \\\n",
       "0             0.0                      0.0            0.0   \n",
       "1             0.0                      0.0            0.0   \n",
       "2             0.0                     -1.0            0.0   \n",
       "3             0.0                      0.0            0.0   \n",
       "4             0.0                      0.0            0.0   \n",
       "\n",
       "   Informational_Duration  ProductRelated  ProductRelated_Duration  \\\n",
       "0                     0.0             1.0                 0.000000   \n",
       "1                     0.0             2.0                64.000000   \n",
       "2                    -1.0             1.0                -1.000000   \n",
       "3                     0.0             2.0                 2.666667   \n",
       "4                     0.0            10.0               627.500000   \n",
       "\n",
       "   BounceRates  ExitRates  PageValues  SpecialDay Month  OperatingSystems  \\\n",
       "0         0.20       0.20         0.0         0.0   Feb                 1   \n",
       "1         0.00       0.10         0.0         0.0   Feb                 2   \n",
       "2         0.20       0.20         0.0         0.0   Feb                 4   \n",
       "3         0.05       0.14         0.0         0.0   Feb                 3   \n",
       "4         0.02       0.05         0.0         0.0   Feb                 3   \n",
       "\n",
       "   Browser  Region  TrafficType        VisitorType  Weekend  Revenue  \n",
       "0        1       1            1  Returning_Visitor    False    False  \n",
       "1        2       1            2  Returning_Visitor    False    False  \n",
       "2        1       9            3  Returning_Visitor    False    False  \n",
       "3        2       2            4  Returning_Visitor    False    False  \n",
       "4        3       1            4  Returning_Visitor     True    False  "
      ]
     },
     "execution_count": 146,
     "metadata": {},
     "output_type": "execute_result"
    }
   ],
   "source": [
    "dataframe.head()"
   ]
  },
  {
   "cell_type": "markdown",
   "metadata": {},
   "source": [
    "#### Informações do UCI\n",
    "\n",
    "- Dataset possui 10 váriaveis númericos e 8 categóricos.\n",
    "- Revenue é a váriavel target\n",
    "\n",
    "#### Informações das variáveis\n",
    "\n",
    "- \"Administrative\", \"Administrative Duration\", \"Informational\", \"Informational Duration\", \"Product Related\" e \"Product Related Duration\" representa o número de diferentes tipos de páginas visitadas pelo visitante naquela sessão e tempo total gasto em cada dessa categoria\n",
    "- \"Bounce Rate\", \"Exit Rate\" and \"Page Value\" representa métricas medidas pelo Google Analytics for cada página dentro da e-commerce site\n",
    "- \"Bounce Rate\" porcentagem de visitantes que entrou no site através daquela página e depois saem sem acionar outras solicitações ao servidor de análise.\n",
    "- \"Exit Rate\" váriavel específico para uma página web é calculado para todas as visualizações da página, a porcentagem que foi a última na sessão\n",
    "- \"Page Value\" representa valor médio de uma página da web que o usuário visitou antes de concluir uma transação de comércio eletrônico. \n",
    "- \"Special Day\" horário proximado do horário de visita do site a um dia especial em que as sessões têm maior probilidade de serem finalzadas com transação"
   ]
  },
  {
   "cell_type": "markdown",
   "metadata": {},
   "source": [
    "# Análise "
   ]
  },
  {
   "cell_type": "code",
   "execution_count": 147,
   "metadata": {},
   "outputs": [
    {
     "name": "stdout",
     "output_type": "stream",
     "text": [
      "<class 'pandas.core.frame.DataFrame'>\n",
      "RangeIndex: 12330 entries, 0 to 12329\n",
      "Data columns (total 18 columns):\n",
      " #   Column                   Non-Null Count  Dtype  \n",
      "---  ------                   --------------  -----  \n",
      " 0   Administrative           12316 non-null  float64\n",
      " 1   Administrative_Duration  12316 non-null  float64\n",
      " 2   Informational            12316 non-null  float64\n",
      " 3   Informational_Duration   12316 non-null  float64\n",
      " 4   ProductRelated           12316 non-null  float64\n",
      " 5   ProductRelated_Duration  12316 non-null  float64\n",
      " 6   BounceRates              12316 non-null  float64\n",
      " 7   ExitRates                12316 non-null  float64\n",
      " 8   PageValues               12330 non-null  float64\n",
      " 9   SpecialDay               12330 non-null  float64\n",
      " 10  Month                    12330 non-null  object \n",
      " 11  OperatingSystems         12330 non-null  int64  \n",
      " 12  Browser                  12330 non-null  int64  \n",
      " 13  Region                   12330 non-null  int64  \n",
      " 14  TrafficType              12330 non-null  int64  \n",
      " 15  VisitorType              12330 non-null  object \n",
      " 16  Weekend                  12330 non-null  bool   \n",
      " 17  Revenue                  12330 non-null  bool   \n",
      "dtypes: bool(2), float64(10), int64(4), object(2)\n",
      "memory usage: 1.5+ MB\n"
     ]
    }
   ],
   "source": [
    "dataframe.info()"
   ]
  },
  {
   "cell_type": "code",
   "execution_count": 148,
   "metadata": {},
   "outputs": [
    {
     "data": {
      "image/png": "[encoded data removed]",
      "text/plain": [
       "<Figure size 432x288 with 1 Axes>"
      ]
     },
     "metadata": {
      "needs_background": "light"
     },
     "output_type": "display_data"
    }
   ],
   "source": [
    "# Gráfico Target\n",
    "plt.bar(height=dataframe[\"Revenue\"].value_counts().values[:], x=dataframe[\"Revenue\"].value_counts().index)\n",
    "plt.xticks([0,1])\n",
    "plt.title('Variável Revenue (Target)');"
   ]
  },
  {
   "cell_type": "code",
   "execution_count": 149,
   "metadata": {},
   "outputs": [
    {
     "data": {
      "text/html": [
       "<div>\n",
       "<style scoped>\n",
       "    .dataframe tbody tr th:only-of-type {\n",
       "        vertical-align: middle;\n",
       "    }\n",
       "\n",
       "    .dataframe tbody tr th {\n",
       "        vertical-align: top;\n",
       "    }\n",
       "\n",
       "    .dataframe thead th {\n",
       "        text-align: right;\n",
       "    }\n",
       "</style>\n",
       "<table border=\"1\" class=\"dataframe\">\n",
       "  <thead>\n",
       "    <tr style=\"text-align: right;\">\n",
       "      <th></th>\n",
       "      <th>Administrative</th>\n",
       "      <th>Administrative_Duration</th>\n",
       "      <th>Informational</th>\n",
       "      <th>Informational_Duration</th>\n",
       "      <th>ProductRelated</th>\n",
       "      <th>ProductRelated_Duration</th>\n",
       "      <th>BounceRates</th>\n",
       "      <th>ExitRates</th>\n",
       "      <th>PageValues</th>\n",
       "      <th>SpecialDay</th>\n",
       "      <th>Month</th>\n",
       "      <th>OperatingSystems</th>\n",
       "      <th>Browser</th>\n",
       "      <th>Region</th>\n",
       "      <th>TrafficType</th>\n",
       "      <th>VisitorType</th>\n",
       "      <th>Weekend</th>\n",
       "      <th>Revenue</th>\n",
       "    </tr>\n",
       "  </thead>\n",
       "  <tbody>\n",
       "    <tr>\n",
       "      <th>1065</th>\n",
       "      <td>NaN</td>\n",
       "      <td>NaN</td>\n",
       "      <td>NaN</td>\n",
       "      <td>NaN</td>\n",
       "      <td>NaN</td>\n",
       "      <td>NaN</td>\n",
       "      <td>NaN</td>\n",
       "      <td>NaN</td>\n",
       "      <td>0.0</td>\n",
       "      <td>0.0</td>\n",
       "      <td>Mar</td>\n",
       "      <td>2</td>\n",
       "      <td>2</td>\n",
       "      <td>2</td>\n",
       "      <td>1</td>\n",
       "      <td>Returning_Visitor</td>\n",
       "      <td>False</td>\n",
       "      <td>False</td>\n",
       "    </tr>\n",
       "    <tr>\n",
       "      <th>1132</th>\n",
       "      <td>NaN</td>\n",
       "      <td>NaN</td>\n",
       "      <td>NaN</td>\n",
       "      <td>NaN</td>\n",
       "      <td>NaN</td>\n",
       "      <td>NaN</td>\n",
       "      <td>NaN</td>\n",
       "      <td>NaN</td>\n",
       "      <td>0.0</td>\n",
       "      <td>0.0</td>\n",
       "      <td>Mar</td>\n",
       "      <td>1</td>\n",
       "      <td>1</td>\n",
       "      <td>1</td>\n",
       "      <td>2</td>\n",
       "      <td>Returning_Visitor</td>\n",
       "      <td>False</td>\n",
       "      <td>False</td>\n",
       "    </tr>\n",
       "    <tr>\n",
       "      <th>1133</th>\n",
       "      <td>NaN</td>\n",
       "      <td>NaN</td>\n",
       "      <td>NaN</td>\n",
       "      <td>NaN</td>\n",
       "      <td>NaN</td>\n",
       "      <td>NaN</td>\n",
       "      <td>NaN</td>\n",
       "      <td>NaN</td>\n",
       "      <td>0.0</td>\n",
       "      <td>0.0</td>\n",
       "      <td>Mar</td>\n",
       "      <td>2</td>\n",
       "      <td>4</td>\n",
       "      <td>5</td>\n",
       "      <td>1</td>\n",
       "      <td>Returning_Visitor</td>\n",
       "      <td>False</td>\n",
       "      <td>False</td>\n",
       "    </tr>\n",
       "    <tr>\n",
       "      <th>1134</th>\n",
       "      <td>NaN</td>\n",
       "      <td>NaN</td>\n",
       "      <td>NaN</td>\n",
       "      <td>NaN</td>\n",
       "      <td>NaN</td>\n",
       "      <td>NaN</td>\n",
       "      <td>NaN</td>\n",
       "      <td>NaN</td>\n",
       "      <td>0.0</td>\n",
       "      <td>0.0</td>\n",
       "      <td>Mar</td>\n",
       "      <td>2</td>\n",
       "      <td>2</td>\n",
       "      <td>1</td>\n",
       "      <td>2</td>\n",
       "      <td>Returning_Visitor</td>\n",
       "      <td>False</td>\n",
       "      <td>False</td>\n",
       "    </tr>\n",
       "    <tr>\n",
       "      <th>1135</th>\n",
       "      <td>NaN</td>\n",
       "      <td>NaN</td>\n",
       "      <td>NaN</td>\n",
       "      <td>NaN</td>\n",
       "      <td>NaN</td>\n",
       "      <td>NaN</td>\n",
       "      <td>NaN</td>\n",
       "      <td>NaN</td>\n",
       "      <td>0.0</td>\n",
       "      <td>0.0</td>\n",
       "      <td>Mar</td>\n",
       "      <td>3</td>\n",
       "      <td>2</td>\n",
       "      <td>1</td>\n",
       "      <td>1</td>\n",
       "      <td>Returning_Visitor</td>\n",
       "      <td>False</td>\n",
       "      <td>False</td>\n",
       "    </tr>\n",
       "  </tbody>\n",
       "</table>\n",
       "</div>"
      ],
      "text/plain": [
       "      Administrative  Administrative_Duration  Informational  \\\n",
       "1065             NaN                      NaN            NaN   \n",
       "1132             NaN                      NaN            NaN   \n",
       "1133             NaN                      NaN            NaN   \n",
       "1134             NaN                      NaN            NaN   \n",
       "1135             NaN                      NaN            NaN   \n",
       "\n",
       "      Informational_Duration  ProductRelated  ProductRelated_Duration  \\\n",
       "1065                     NaN             NaN                      NaN   \n",
       "1132                     NaN             NaN                      NaN   \n",
       "1133                     NaN             NaN                      NaN   \n",
       "1134                     NaN             NaN                      NaN   \n",
       "1135                     NaN             NaN                      NaN   \n",
       "\n",
       "      BounceRates  ExitRates  PageValues  SpecialDay Month  OperatingSystems  \\\n",
       "1065          NaN        NaN         0.0         0.0   Mar                 2   \n",
       "1132          NaN        NaN         0.0         0.0   Mar                 1   \n",
       "1133          NaN        NaN         0.0         0.0   Mar                 2   \n",
       "1134          NaN        NaN         0.0         0.0   Mar                 2   \n",
       "1135          NaN        NaN         0.0         0.0   Mar                 3   \n",
       "\n",
       "      Browser  Region  TrafficType        VisitorType  Weekend  Revenue  \n",
       "1065        2       2            1  Returning_Visitor    False    False  \n",
       "1132        1       1            2  Returning_Visitor    False    False  \n",
       "1133        4       5            1  Returning_Visitor    False    False  \n",
       "1134        2       1            2  Returning_Visitor    False    False  \n",
       "1135        2       1            1  Returning_Visitor    False    False  "
      ]
     },
     "execution_count": 149,
     "metadata": {},
     "output_type": "execute_result"
    }
   ],
   "source": [
    "# Observações com valoers NaN\n",
    "bool_series = pd.isnull(dataframe[\"Administrative\"])\n",
    "dataframe[bool_series].head()"
   ]
  },
  {
   "cell_type": "code",
   "execution_count": 150,
   "metadata": {},
   "outputs": [
    {
     "data": {
      "text/plain": [
       "0"
      ]
     },
     "execution_count": 150,
     "metadata": {},
     "output_type": "execute_result"
    }
   ],
   "source": [
    "# Drop de observações NaN\n",
    "dataframe.dropna(inplace=True)\n",
    "dataframe.reset_index(inplace=True)\n",
    "dataframe.isna().sum().sum()"
   ]
  },
  {
   "cell_type": "code",
   "execution_count": 151,
   "metadata": {},
   "outputs": [
    {
     "data": {
      "image/png": "[encoded data removed]",
      "text/plain": [
       "<Figure size 720x432 with 1 Axes>"
      ]
     },
     "metadata": {
      "needs_background": "light"
     },
     "output_type": "display_data"
    }
   ],
   "source": [
    "# Variável 'Administrative'\n",
    "plt.figure(figsize=(10,6))\n",
    "plt.bar(height=dataframe[\"Administrative\"].value_counts().values, x=dataframe[\"Administrative\"].value_counts().index)\n",
    "plt.title('Administrative');"
   ]
  },
  {
   "cell_type": "code",
   "execution_count": 152,
   "metadata": {},
   "outputs": [
    {
     "data": {
      "image/png": "[encoded data removed]",
      "text/plain": [
       "<Figure size 720x432 with 1 Axes>"
      ]
     },
     "metadata": {
      "needs_background": "light"
     },
     "output_type": "display_data"
    }
   ],
   "source": [
    "# Gráfico valores únicos\n",
    "plt.figure(figsize=(10,6))\n",
    "plt.bar(height=dataframe.nunique().sort_values(ascending=False), x=dataframe.nunique().sort_values(ascending=False).index)\n",
    "plt.xticks(rotation=90)\n",
    "plt.title(\"Quantidade de Valores Únicos\");"
   ]
  },
  {
   "cell_type": "code",
   "execution_count": 153,
   "metadata": {},
   "outputs": [],
   "source": [
    "# Variáveis categóricas e numérica\n",
    "col_cat = []\n",
    "col_num = []\n",
    "\n",
    "for i in dataframe.columns:\n",
    "    if dataframe[i].nunique() < 50:\n",
    "        col_cat.append(i)\n",
    "    else:\n",
    "        col_num.append(i)"
   ]
  },
  {
   "cell_type": "code",
   "execution_count": 154,
   "metadata": {},
   "outputs": [
    {
     "data": {
      "text/plain": [
       "<matplotlib.axes._subplots.AxesSubplot at 0x19978a43308>"
      ]
     },
     "execution_count": 154,
     "metadata": {},
     "output_type": "execute_result"
    },
    {
     "data": {
      "image/png": "[encoded data removed]",
      "text/plain": [
       "<Figure size 720x432 with 2 Axes>"
      ]
     },
     "metadata": {
      "needs_background": "light"
     },
     "output_type": "display_data"
    }
   ],
   "source": [
    "# Correlação\n",
    "plt.figure(figsize=(10,6))\n",
    "sns.heatmap(dataframe[col_num + ['Revenue']].corr(), vmax=1, vmin=-1, annot=True)"
   ]
  },
  {
   "cell_type": "code",
   "execution_count": 155,
   "metadata": {},
   "outputs": [
    {
     "data": {
      "image/png": "[encoded data removed]",
      "text/plain": [
       "<Figure size 864x576 with 8 Axes>"
      ]
     },
     "metadata": {
      "needs_background": "light"
     },
     "output_type": "display_data"
    }
   ],
   "source": [
    "# Boxplots\n",
    "plt.figure(figsize=(12,8))\n",
    "\n",
    "for i,col in enumerate(col_num):\n",
    "    \n",
    "    plt.subplot(3,3,1+i)\n",
    "    dataframe.boxplot(col)\n",
    "    plt.tight_layout()"
   ]
  },
  {
   "cell_type": "code",
   "execution_count": 156,
   "metadata": {},
   "outputs": [
    {
     "data": {
      "image/png": "[encoded data removed]",
      "text/plain": [
       "<Figure size 720x432 with 1 Axes>"
      ]
     },
     "metadata": {
      "needs_background": "light"
     },
     "output_type": "display_data"
    }
   ],
   "source": [
    "# Variável categórica (\"Weekend\") com a target \"Revenue\"\n",
    "graf = pd.crosstab(dataframe['Weekend'], dataframe['Revenue']).plot(kind='bar', stacked=True, figsize=(10,6));"
   ]
  },
  {
   "cell_type": "code",
   "execution_count": 157,
   "metadata": {},
   "outputs": [
    {
     "data": {
      "image/png": "[encoded data removed]",
      "text/plain": [
       "<Figure size 720x432 with 1 Axes>"
      ]
     },
     "metadata": {
      "needs_background": "light"
     },
     "output_type": "display_data"
    }
   ],
   "source": [
    "# Variável categórica (\"Region\") com a target \"Revenue\"\n",
    "graf = pd.crosstab(dataframe['Region'], dataframe['Revenue']).plot(kind='bar', stacked=True, figsize=(10,6));"
   ]
  },
  {
   "cell_type": "markdown",
   "metadata": {},
   "source": [
    "# Pré-Processamento"
   ]
  },
  {
   "cell_type": "code",
   "execution_count": 158,
   "metadata": {},
   "outputs": [
    {
     "data": {
      "text/html": [
       "<div>\n",
       "<style scoped>\n",
       "    .dataframe tbody tr th:only-of-type {\n",
       "        vertical-align: middle;\n",
       "    }\n",
       "\n",
       "    .dataframe tbody tr th {\n",
       "        vertical-align: top;\n",
       "    }\n",
       "\n",
       "    .dataframe thead th {\n",
       "        text-align: right;\n",
       "    }\n",
       "</style>\n",
       "<table border=\"1\" class=\"dataframe\">\n",
       "  <thead>\n",
       "    <tr style=\"text-align: right;\">\n",
       "      <th></th>\n",
       "      <th>index</th>\n",
       "      <th>Administrative</th>\n",
       "      <th>Administrative_Duration</th>\n",
       "      <th>Informational</th>\n",
       "      <th>Informational_Duration</th>\n",
       "      <th>ProductRelated</th>\n",
       "      <th>ProductRelated_Duration</th>\n",
       "      <th>BounceRates</th>\n",
       "      <th>ExitRates</th>\n",
       "      <th>PageValues</th>\n",
       "      <th>SpecialDay</th>\n",
       "      <th>Month</th>\n",
       "      <th>OperatingSystems</th>\n",
       "      <th>Browser</th>\n",
       "      <th>Region</th>\n",
       "      <th>TrafficType</th>\n",
       "      <th>VisitorType</th>\n",
       "      <th>Weekend</th>\n",
       "      <th>Revenue</th>\n",
       "    </tr>\n",
       "  </thead>\n",
       "  <tbody>\n",
       "    <tr>\n",
       "      <th>0</th>\n",
       "      <td>0</td>\n",
       "      <td>0.0</td>\n",
       "      <td>0.0</td>\n",
       "      <td>0.0</td>\n",
       "      <td>0.0</td>\n",
       "      <td>1.0</td>\n",
       "      <td>0.0</td>\n",
       "      <td>0.2</td>\n",
       "      <td>0.2</td>\n",
       "      <td>0.0</td>\n",
       "      <td>0.0</td>\n",
       "      <td>2</td>\n",
       "      <td>1</td>\n",
       "      <td>1</td>\n",
       "      <td>1</td>\n",
       "      <td>1</td>\n",
       "      <td>2</td>\n",
       "      <td>0</td>\n",
       "      <td>False</td>\n",
       "    </tr>\n",
       "    <tr>\n",
       "      <th>1</th>\n",
       "      <td>1</td>\n",
       "      <td>0.0</td>\n",
       "      <td>0.0</td>\n",
       "      <td>0.0</td>\n",
       "      <td>0.0</td>\n",
       "      <td>2.0</td>\n",
       "      <td>64.0</td>\n",
       "      <td>0.0</td>\n",
       "      <td>0.1</td>\n",
       "      <td>0.0</td>\n",
       "      <td>0.0</td>\n",
       "      <td>2</td>\n",
       "      <td>2</td>\n",
       "      <td>2</td>\n",
       "      <td>1</td>\n",
       "      <td>2</td>\n",
       "      <td>2</td>\n",
       "      <td>0</td>\n",
       "      <td>False</td>\n",
       "    </tr>\n",
       "    <tr>\n",
       "      <th>2</th>\n",
       "      <td>2</td>\n",
       "      <td>0.0</td>\n",
       "      <td>-1.0</td>\n",
       "      <td>0.0</td>\n",
       "      <td>-1.0</td>\n",
       "      <td>1.0</td>\n",
       "      <td>-1.0</td>\n",
       "      <td>0.2</td>\n",
       "      <td>0.2</td>\n",
       "      <td>0.0</td>\n",
       "      <td>0.0</td>\n",
       "      <td>2</td>\n",
       "      <td>4</td>\n",
       "      <td>1</td>\n",
       "      <td>9</td>\n",
       "      <td>3</td>\n",
       "      <td>2</td>\n",
       "      <td>0</td>\n",
       "      <td>False</td>\n",
       "    </tr>\n",
       "  </tbody>\n",
       "</table>\n",
       "</div>"
      ],
      "text/plain": [
       "   index  Administrative  Administrative_Duration  Informational  \\\n",
       "0      0             0.0                      0.0            0.0   \n",
       "1      1             0.0                      0.0            0.0   \n",
       "2      2             0.0                     -1.0            0.0   \n",
       "\n",
       "   Informational_Duration  ProductRelated  ProductRelated_Duration  \\\n",
       "0                     0.0             1.0                      0.0   \n",
       "1                     0.0             2.0                     64.0   \n",
       "2                    -1.0             1.0                     -1.0   \n",
       "\n",
       "   BounceRates  ExitRates  PageValues  SpecialDay  Month  OperatingSystems  \\\n",
       "0          0.2        0.2         0.0         0.0      2                 1   \n",
       "1          0.0        0.1         0.0         0.0      2                 2   \n",
       "2          0.2        0.2         0.0         0.0      2                 4   \n",
       "\n",
       "   Browser  Region  TrafficType  VisitorType  Weekend  Revenue  \n",
       "0        1       1            1            2        0    False  \n",
       "1        2       1            2            2        0    False  \n",
       "2        1       9            3            2        0    False  "
      ]
     },
     "execution_count": 158,
     "metadata": {},
     "output_type": "execute_result"
    }
   ],
   "source": [
    "# Label enconder\n",
    "label_enconder = LabelEncoder()\n",
    "dataframe['VisitorType'] = label_enconder.fit_transform(dataframe['VisitorType'])\n",
    "dataframe['Weekend'] = label_enconder.fit_transform(dataframe['Weekend'])\n",
    "dataframe['Month'] = label_enconder.fit_transform(dataframe['Month'])\n",
    "\n",
    "dataframe.head(3)"
   ]
  },
  {
   "cell_type": "code",
   "execution_count": 174,
   "metadata": {},
   "outputs": [],
   "source": [
    "# One Hot Enconder - Separando variáveis categóricas em colunas\n",
    "one_hot = OneHotEncoder(drop='first')\n",
    "\n",
    "# Valores \n",
    "array_ohe = one_hot.fit_transform(dataframe[['VisitorType', 'Weekend', 'Month']]).toarray()\n",
    "\n",
    "# Nomes colunas geradas\n",
    "columns_ohe = one_hot.get_feature_names()\n",
    "\n",
    "# Dataframe com novas colunas\n",
    "df_ohe = pd.DataFrame(data= array_ohe, columns=columns_ohe)"
   ]
  },
  {
   "cell_type": "code",
   "execution_count": 175,
   "metadata": {},
   "outputs": [],
   "source": [
    "# Concatenação de dois dataframe\n",
    "df_final = pd.concat([dataframe, df_ohe], axis=1)"
   ]
  },
  {
   "cell_type": "code",
   "execution_count": 176,
   "metadata": {},
   "outputs": [],
   "source": [
    "# Separando x e y\n",
    "x = df_final.drop(['Revenue'], axis=1)\n",
    "y = df_final['Revenue']"
   ]
  },
  {
   "cell_type": "code",
   "execution_count": 177,
   "metadata": {},
   "outputs": [],
   "source": [
    "# Divisão treino e teste\n",
    "x_train, x_test, y_train, y_test = train_test_split(x, y, test_size=.25, random_state=2)"
   ]
  },
  {
   "cell_type": "code",
   "execution_count": 178,
   "metadata": {},
   "outputs": [],
   "source": [
    "# Padronização\n",
    "std = StandardScaler()\n",
    "\n",
    "x_train = std.fit_transform(x_train)\n",
    "x_test = std.transform(x_test)"
   ]
  },
  {
   "cell_type": "markdown",
   "metadata": {},
   "source": [
    "# Algoritmo"
   ]
  },
  {
   "cell_type": "code",
   "execution_count": 167,
   "metadata": {},
   "outputs": [],
   "source": [
    "# BaseLine\n",
    "baseline_list = dataframe.shape[0]*[False]\n",
    "acc = accuracy_score(dataframe['Revenue'], baseline_list)\n",
    "\n",
    "df_resultado = pd.DataFrame([[acc, np.NAN, np.NAN, np.NAN, np.NAN]], \n",
    "                      columns= ['Acuracia', 'Precisao', 'Recall', 'F1', \"AUC\"],\n",
    "                      index=['Base_Line'])"
   ]
  },
  {
   "cell_type": "code",
   "execution_count": 168,
   "metadata": {},
   "outputs": [],
   "source": [
    "# Support Vector Machine\n",
    "model_svm = SVC()\n",
    "\n",
    "# Treinamento\n",
    "model_svm.fit(x_train, y_train)\n",
    "\n",
    "# Previsão\n",
    "pred_svm = model_svm.predict(x_test)\n",
    "\n",
    "# Métricas\n",
    "acc_svm = accuracy_score(pred_svm, y_test)\n",
    "prec_svm = precision_score(pred_svm, y_test)\n",
    "rec_svm = recall_score(pred_svm, y_test)\n",
    "f1_svm = f1_score(pred_svm, y_test)\n",
    "auc_svm = roc_auc_score(y_test, pred_svm) # Ordem dos parâmetros IMPORTA\n",
    "\n",
    "# Criação do df de resultados e valores da métricas geradas pelo SVM\n",
    "svm_df = pd.DataFrame([[acc_svm, prec_svm, rec_svm, f1_svm, auc_svm]], \n",
    "                      columns= ['Acuracia', 'Precisao', 'Recall', 'F1', \"AUC\"],\n",
    "                      index=['SVM'])\n",
    "\n",
    "df_resultado = df_resultado.append(svm_df)"
   ]
  },
  {
   "cell_type": "code",
   "execution_count": 169,
   "metadata": {},
   "outputs": [],
   "source": [
    "# Regressão Logística\n",
    "model_reg = LogisticRegression(max_iter=3000)\n",
    "\n",
    "# Treinamento\n",
    "model_reg.fit(x_train, y_train)\n",
    "\n",
    "# Previsão\n",
    "pred_reg = model_reg.predict(x_test)\n",
    "\n",
    "# Métricas\n",
    "acc_reg = accuracy_score(pred_reg, y_test)\n",
    "prec_reg = precision_score(pred_reg, y_test)\n",
    "rec_reg = recall_score(pred_reg, y_test)\n",
    "f1_reg = f1_score(pred_reg, y_test)\n",
    "auc_reg = roc_auc_score(y_test, pred_reg) # Ordem dos parâmetros IMPORTA\n",
    "\n",
    "# Valores da métricas geradas pela Regressão Logistica\n",
    "reg_df = pd.DataFrame([[acc_reg, prec_reg, rec_reg, f1_reg, auc_reg]], \n",
    "                      columns= ['Acuracia', 'Precisao', 'Recall', 'F1', \"AUC\"],\n",
    "                      index=['Regressao_Logistica'])\n",
    "\n",
    "df_resultado = df_resultado.append(reg_df)"
   ]
  },
  {
   "cell_type": "code",
   "execution_count": 170,
   "metadata": {},
   "outputs": [],
   "source": [
    "# Random Forest\n",
    "model_forest = RandomForestClassifier()\n",
    "\n",
    "# Treinamento\n",
    "model_forest.fit(x_train, y_train)\n",
    "\n",
    "# Previsão\n",
    "pred_forest = model_forest.predict(x_test)\n",
    "\n",
    "# Métrica\n",
    "acc_forest = accuracy_score(pred_forest, y_test)\n",
    "prec_forest = precision_score(pred_forest, y_test)\n",
    "rec_forest = recall_score(pred_forest, y_test)\n",
    "f1_forest = f1_score(pred_forest, y_test)\n",
    "auc_forest = roc_auc_score(y_test, pred_forest) # Ordem dos parâmetros IMPORTA\n",
    "\n",
    "# Valores da métricas geradas pelo Random Forest\n",
    "forest_df = pd.DataFrame([[acc_forest, prec_forest, rec_forest, f1_forest, auc_forest]], \n",
    "                      columns= ['Acuracia', 'Precisao', 'Recall', 'F1', \"AUC\"],\n",
    "                      index=['Random_Forest'])\n",
    "\n",
    "df_resultado = df_resultado.append(forest_df)"
   ]
  },
  {
   "cell_type": "code",
   "execution_count": 171,
   "metadata": {},
   "outputs": [],
   "source": [
    "# AdaBoost\n",
    "model_ada = AdaBoostClassifier()\n",
    "\n",
    "# Treinamento\n",
    "model_ada.fit(x_train, y_train)\n",
    "\n",
    "# Previsão\n",
    "pred_ada = model_ada.predict(x_test)\n",
    "\n",
    "# Métricas\n",
    "acc_ada = accuracy_score(pred_ada, y_test)\n",
    "prec_ada = precision_score(pred_ada, y_test)\n",
    "rec_ada = recall_score(pred_ada, y_test)\n",
    "f1_ada = f1_score(pred_ada, y_test)\n",
    "auc_ada = roc_auc_score(y_test, pred_ada) # Ordem dos parâmetros IMPORTA\n",
    "\n",
    "# Valores da métricas geradas pelo AdaBoost\n",
    "ada_df = pd.DataFrame([[acc_ada, prec_ada, rec_ada, f1_ada, auc_ada]], \n",
    "                      columns= ['Acuracia', 'Precisao', 'Recall', 'F1', \"AUC\"],\n",
    "                      index=['AdaBoost'])\n",
    "\n",
    "df_resultado = df_resultado.append(ada_df)"
   ]
  },
  {
   "cell_type": "code",
   "execution_count": 172,
   "metadata": {},
   "outputs": [],
   "source": [
    "# Bagging\n",
    "model_bag = BaggingClassifier()\n",
    "\n",
    "# Treinamento\n",
    "model_bag.fit(x_train, y_train)\n",
    "\n",
    "# Previsão\n",
    "pred_bag = model_bag.predict(x_test)\n",
    "\n",
    "# Métricas\n",
    "acc_bag = accuracy_score(pred_bag, y_test)\n",
    "prec_bag = precision_score(pred_bag, y_test)\n",
    "rec_bag = recall_score(pred_bag, y_test)\n",
    "f1_bag = f1_score(pred_bag, y_test)\n",
    "auc_bag = roc_auc_score(y_test, pred_bag) # Ordem dos parâmetros IMPORTA\n",
    "\n",
    "# Valores da métricas geradas pelo Bagging\n",
    "bag_df = pd.DataFrame([[acc_bag, prec_bag, rec_bag, f1_bag, auc_bag]], \n",
    "                      columns= ['Acuracia', 'Precisao', 'Recall', 'F1', \"AUC\"],\n",
    "                      index=['Bagging'])\n",
    "\n",
    "df_resultado = df_resultado.append(bag_df)"
   ]
  },
  {
   "cell_type": "code",
   "execution_count": 173,
   "metadata": {},
   "outputs": [
    {
     "data": {
      "text/html": [
       "<div>\n",
       "<style scoped>\n",
       "    .dataframe tbody tr th:only-of-type {\n",
       "        vertical-align: middle;\n",
       "    }\n",
       "\n",
       "    .dataframe tbody tr th {\n",
       "        vertical-align: top;\n",
       "    }\n",
       "\n",
       "    .dataframe thead th {\n",
       "        text-align: right;\n",
       "    }\n",
       "</style>\n",
       "<table border=\"1\" class=\"dataframe\">\n",
       "  <thead>\n",
       "    <tr style=\"text-align: right;\">\n",
       "      <th></th>\n",
       "      <th>Acuracia</th>\n",
       "      <th>Precisao</th>\n",
       "      <th>Recall</th>\n",
       "      <th>F1</th>\n",
       "      <th>AUC</th>\n",
       "    </tr>\n",
       "  </thead>\n",
       "  <tbody>\n",
       "    <tr>\n",
       "      <th>Base_Line</th>\n",
       "      <td>0.845080</td>\n",
       "      <td>NaN</td>\n",
       "      <td>NaN</td>\n",
       "      <td>NaN</td>\n",
       "      <td>NaN</td>\n",
       "    </tr>\n",
       "    <tr>\n",
       "      <th>SVM</th>\n",
       "      <td>0.884703</td>\n",
       "      <td>0.399590</td>\n",
       "      <td>0.758755</td>\n",
       "      <td>0.523490</td>\n",
       "      <td>0.687831</td>\n",
       "    </tr>\n",
       "    <tr>\n",
       "      <th>Regressao_Logistica</th>\n",
       "      <td>0.877882</td>\n",
       "      <td>0.321721</td>\n",
       "      <td>0.777228</td>\n",
       "      <td>0.455072</td>\n",
       "      <td>0.652177</td>\n",
       "    </tr>\n",
       "    <tr>\n",
       "      <th>Random_Forest</th>\n",
       "      <td>0.899643</td>\n",
       "      <td>0.508197</td>\n",
       "      <td>0.782334</td>\n",
       "      <td>0.616149</td>\n",
       "      <td>0.740783</td>\n",
       "    </tr>\n",
       "    <tr>\n",
       "      <th>AdaBoost</th>\n",
       "      <td>0.889899</td>\n",
       "      <td>0.518443</td>\n",
       "      <td>0.708683</td>\n",
       "      <td>0.598817</td>\n",
       "      <td>0.739152</td>\n",
       "    </tr>\n",
       "    <tr>\n",
       "      <th>Bagging</th>\n",
       "      <td>0.898019</td>\n",
       "      <td>0.524590</td>\n",
       "      <td>0.757396</td>\n",
       "      <td>0.619855</td>\n",
       "      <td>0.746471</td>\n",
       "    </tr>\n",
       "  </tbody>\n",
       "</table>\n",
       "</div>"
      ],
      "text/plain": [
       "                     Acuracia  Precisao    Recall        F1       AUC\n",
       "Base_Line            0.845080       NaN       NaN       NaN       NaN\n",
       "SVM                  0.884703  0.399590  0.758755  0.523490  0.687831\n",
       "Regressao_Logistica  0.877882  0.321721  0.777228  0.455072  0.652177\n",
       "Random_Forest        0.899643  0.508197  0.782334  0.616149  0.740783\n",
       "AdaBoost             0.889899  0.518443  0.708683  0.598817  0.739152\n",
       "Bagging              0.898019  0.524590  0.757396  0.619855  0.746471"
      ]
     },
     "execution_count": 173,
     "metadata": {},
     "output_type": "execute_result"
    }
   ],
   "source": [
    "df_resultado"
   ]
  },
  {
   "cell_type": "code",
   "execution_count": null,
   "metadata": {},
   "outputs": [],
   "source": []
  },
  {
   "cell_type": "code",
   "execution_count": null,
   "metadata": {},
   "outputs": [],
   "source": []
  },
  {
   "cell_type": "code",
   "execution_count": null,
   "metadata": {},
   "outputs": [],
   "source": []
  },
  {
   "cell_type": "code",
   "execution_count": null,
   "metadata": {},
   "outputs": [],
   "source": []
  },
  {
   "cell_type": "code",
   "execution_count": null,
   "metadata": {},
   "outputs": [],
   "source": []
  },
  {
   "cell_type": "code",
   "execution_count": null,
   "metadata": {},
   "outputs": [],
   "source": []
  }
 ],
 "metadata": {
  "kernelspec": {
   "display_name": "Python 3",
   "language": "python",
   "name": "python3"
  },
  "language_info": {
   "codemirror_mode": {
    "name": "ipython",
    "version": 3
   },
   "file_extension": ".py",
   "mimetype": "text/x-python",
   "name": "python",
   "nbconvert_exporter": "python",
   "pygments_lexer": "ipython3",
   "version": "3.7.6"
  }
 },
 "nbformat": 4,
 "nbformat_minor": 4
}
